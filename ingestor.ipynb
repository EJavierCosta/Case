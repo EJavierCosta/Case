{
 "cells": [
  {
   "cell_type": "code",
   "execution_count": 0,
   "metadata": {
    "application/vnd.databricks.v1+cell": {
     "cellMetadata": {
      "byteLimit": 2048000,
      "rowLimit": 10000
     },
     "inputWidgets": {},
     "nuid": "37fe5bd2-8dd3-4c42-87d0-2fddd8ba75a5",
     "showTitle": true,
     "tableResultSettingsMap": {},
     "title": "Imports"
    }
   },
   "outputs": [],
   "source": [
    "import requests\n"
   ]
  },
  {
   "cell_type": "code",
   "execution_count": 0,
   "metadata": {
    "application/vnd.databricks.v1+cell": {
     "cellMetadata": {
      "byteLimit": 2048000,
      "rowLimit": 10000
     },
     "inputWidgets": {},
     "nuid": "a39da8da-e4e1-462a-b902-fe2b3d219b4f",
     "showTitle": true,
     "tableResultSettingsMap": {},
     "title": "Extração - Case Dados - Pedidos"
    }
   },
   "outputs": [],
   "source": [
    "CSV_URL = (\n",
    "    \"https://docs.google.com/spreadsheets/d/1reziwqueMdfNA-3Vgz-JxVK_XXaB99nuOvHSdC0wBnw/export?format=csv&gid=919246905\"\n",
    "   # \"https://docs.google.com/spreadsheets/d/1reziwqueMdfNA-3Vgz-JxVK_XXaB99nuOvHSdC0wBnw/edit?usp=sharing\"\n",
    "   #\"https://docs.google.com/spreadsheets/d/1reziwqueMdfNA-3Vgz-JxVK_XXaB99nuOvHSdC0wBnw/edit?gid=919246905#gid=919246905\"\n",
    ")\n",
    "dbfs_path = \"/Volumes/transacional/case_gocase/tmp/Case Dados - Pedidos.csv\"\n",
    "\n",
    "response = requests.get(CSV_URL)\n",
    "response.raise_for_status()\n",
    "\n",
    "with open(dbfs_path, \"w\", encoding=\"utf-8\") as f:\n",
    "    f.write(response.text)\n",
    "\n"
   ]
  },
  {
   "cell_type": "code",
   "execution_count": 0,
   "metadata": {
    "application/vnd.databricks.v1+cell": {
     "cellMetadata": {
      "byteLimit": 2048000,
      "rowLimit": 10000
     },
     "inputWidgets": {},
     "nuid": "55986302-c899-4f11-b202-a7caa8097fc0",
     "showTitle": true,
     "tableResultSettingsMap": {},
     "title": "Extração - Business Case Dados Supply"
    }
   },
   "outputs": [],
   "source": [
    "CSV_URL = (\n",
    "    \"https://docs.google.com/spreadsheets/d/1c7uf9pHUN5JvNJHuueXLkaGkX8vvslWd5-NiPYoZ8V0/export?format=csv&gid=224192872\"\n",
    "    #\"https://docs.google.com/spreadsheets/d/1c7uf9pHUN5JvNJHuueXLkaGkX8vvslWd5-NiPYoZ8V0/edit?usp=sharing\"\n",
    "    #https://docs.google.com/spreadsheets/d/1c7uf9pHUN5JvNJHuueXLkaGkX8vvslWd5-NiPYoZ8V0/edit?gid=1760558779#gid=1760558779\n",
    ")\n",
    "dbfs_path = \"/Volumes/transacional/case_gocase/tmp/Business Case Dados Supply.csv\"\n",
    "\n",
    "response = requests.get(CSV_URL)\n",
    "response.raise_for_status()\n",
    "\n",
    "with open(dbfs_path, \"w\", encoding=\"utf-8\") as f:\n",
    "    f.write(response.text)"
   ]
  },
  {
   "cell_type": "code",
   "execution_count": 0,
   "metadata": {
    "application/vnd.databricks.v1+cell": {
     "cellMetadata": {
      "byteLimit": 2048000,
      "rowLimit": 10000
     },
     "inputWidgets": {},
     "nuid": "2d62bf2a-7532-4302-b05f-3929316b96c3",
     "showTitle": true,
     "tableResultSettingsMap": {},
     "title": "Extração - Business Case Dados Itens"
    }
   },
   "outputs": [],
   "source": [
    "CSV_URL = (\n",
    "    \"https://docs.google.com/spreadsheets/d/1c7uf9pHUN5JvNJHuueXLkaGkX8vvslWd5-NiPYoZ8V0/export?format=csv&gid=1760558779\"\n",
    "    #\"https://docs.google.com/spreadsheets/d/1c7uf9pHUN5JvNJHuueXLkaGkX8vvslWd5-NiPYoZ8V0/edit?usp=sharing\"\n",
    "    #https://docs.google.com/spreadsheets/d/1c7uf9pHUN5JvNJHuueXLkaGkX8vvslWd5-NiPYoZ8V0/edit?gid=1760558779#gid=1760558779\n",
    ")\n",
    "dbfs_path = \"/Volumes/transacional/case_gocase/tmp/Business Case Dados Itens.csv\"\n",
    "\n",
    "response = requests.get(CSV_URL)\n",
    "response.raise_for_status()\n",
    "\n",
    "with open(dbfs_path, \"w\", encoding=\"utf-8\") as f:\n",
    "    f.write(response.text)"
   ]
  }
 ],
 "metadata": {
  "application/vnd.databricks.v1+notebook": {
   "computePreferences": null,
   "dashboards": [],
   "environmentMetadata": {
    "base_environment": "",
    "environment_version": "4"
   },
   "inputWidgetPreferences": null,
   "language": "python",
   "notebookMetadata": {
    "pythonIndentUnit": 4
   },
   "notebookName": "ingestor",
   "widgets": {}
  },
  "language_info": {
   "name": "python"
  }
 },
 "nbformat": 4,
 "nbformat_minor": 0
}
