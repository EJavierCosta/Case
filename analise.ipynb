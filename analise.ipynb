{
 "cells": [
  {
   "cell_type": "code",
   "execution_count": 0,
   "metadata": {
    "application/vnd.databricks.v1+cell": {
     "cellMetadata": {
      "byteLimit": 2048000,
      "rowLimit": 10000
     },
     "inputWidgets": {},
     "nuid": "5648c2df-7101-40a3-b121-2d05c3f10918",
     "showTitle": true,
     "tableResultSettingsMap": {},
     "title": "Imports"
    }
   },
   "outputs": [],
   "source": [
    "from pyspark.sql.functions import col, count, desc, lit, when, datediff, sum, avg, regexp_replace, to_date, to_timestamp, hour, struct, collect_list, to_json\n",
    "import requests\n",
    "import json\n",
    "from utils import spark_df_to_json_serializable\n",
    "from datetime import datetime\n",
    "import pytz"
   ]
  },
  {
   "cell_type": "code",
   "execution_count": 0,
   "metadata": {
    "application/vnd.databricks.v1+cell": {
     "cellMetadata": {
      "byteLimit": 2048000,
      "rowLimit": 10000
     },
     "inputWidgets": {},
     "nuid": "d5500e16-3d49-4169-b378-1b22d9575673",
     "showTitle": true,
     "tableResultSettingsMap": {},
     "title": "Load"
    }
   },
   "outputs": [],
   "source": [
    "df_pedidos_ = spark.read.csv(\n",
    "    \"/Volumes/transacional/case_gocase/tmp/Case Dados - Pedidos.csv\",\n",
    "    header=True,\n",
    "    inferSchema=True\n",
    ")\n",
    "df_itens = spark.read.csv(\n",
    "    \"/Volumes/transacional/case_gocase/tmp/Business Case Dados Itens.csv\",\n",
    "    header=True,\n",
    "    inferSchema=True\n",
    ")\n",
    "df_supply = spark.read.csv(\n",
    "    \"/Volumes/transacional/case_gocase/tmp/Business Case Dados Supply.csv\",\n",
    "    header=True,\n",
    "    inferSchema=True\n",
    ")\n"
   ]
  },
  {
   "cell_type": "code",
   "execution_count": 0,
   "metadata": {
    "application/vnd.databricks.v1+cell": {
     "cellMetadata": {
      "byteLimit": 2048000,
      "rowLimit": 10000
     },
     "inputWidgets": {},
     "nuid": "3d211554-2b52-4c7f-9f0f-6a8ac6317ef1",
     "showTitle": true,
     "tableResultSettingsMap": {},
     "title": "Tratamento"
    }
   },
   "outputs": [],
   "source": [
    "# 1. Renomear colunas \n",
    "df_pedidos = (df_pedidos_\n",
    "    .withColumnRenamed(\"CÃ³digo de Rastreio\", \"codigo_rastreio\")\n",
    "    .withColumnRenamed(\"Valor de NF (R$)\", \"valor_nf\")\n",
    "    .withColumnRenamed(\"Frete Cobrado do Cliente (R$)\", \"frete_cliente\")\n",
    "    .withColumnRenamed(\"Frete cobrado pela transportadora (R$)\", \"frete_transportadora\")\n",
    "    .withColumnRenamed(\"NÃºmero da NF\", \"numero_nf\")\n",
    "    .withColumnRenamed(\"Status do Pedido\", \"status_pedido\")\n",
    "    .withColumnRenamed(\"Prazo para Sair do CD\", \"prazo_saida_cd\")\n",
    "    .withColumnRenamed(\"Enviado em:\", \"data_envio\")\n",
    "    .withColumnRenamed(\"Entregue para o cliente em:\", \"data_entrega\")\n",
    "    .withColumnRenamed(\"Prazo a transportadora entregar no cliente\", \"prazo_entrega_transportadora\")\n",
    "    .withColumnRenamed(\"NÃºmero de Itens no Pedido\", \"num_itens\")\n",
    "    .withColumnRenamed(\"Peso (kg)\", \"peso_kg\")\n",
    "    .withColumnRenamed(\"id\", \"order_id\")\n",
    ")\n",
    "\n",
    "# 2. Converter colunas numéricas\n",
    "cols_to_convert_pedidos = [\"valor_nf\", \"frete_cliente\", \"frete_transportadora\", \"peso_kg\"]\n",
    "for column in cols_to_convert_pedidos:\n",
    "    df_pedidos = df_pedidos.withColumn(column, regexp_replace(regexp_replace(col(column), \"\\\\.\", \"\"), \",\", \".\").cast(\"double\"))\n",
    "\n",
    "cols_to_convert_itens = [\"material_weight_kg\", \"price\"]\n",
    "for column in cols_to_convert_itens:\n",
    "    df_itens = df_itens.withColumn(column, regexp_replace(regexp_replace(col(column), \"\\\\.\", \"\"), \",\", \".\").cast(\"double\"))\n",
    "\n",
    "df_supply = df_supply.withColumn(\"quantity\", regexp_replace(regexp_replace(col(\"quantity\"), \"\\\\.\", \"\"), \",\", \".\").cast(\"double\"))\n",
    "\n",
    "\n",
    "\n",
    "# Dicionário para \"traduzir\" os meses, será usado para ambos os formatos\n",
    "month_map = {\n",
    "    \"jan.,\": \"Jan\", \"fev.,\": \"Feb\", \"mar.,\": \"Mar\", \"abr.,\": \"Apr\",\n",
    "    \"mai.,\": \"May\", \"jun.,\": \"Jun\", \"jul.,\": \"Jul\", \"ago.,\": \"Aug\",\n",
    "    \"set.,\": \"Sep\", \"out.,\": \"Oct\", \"nov.,\": \"Nov\", \"dez.,\": \"Dec\"\n",
    "}\n",
    "\n",
    "# 3.1 Tratar colunas que SÓ TÊM DATA\n",
    "date_only_cols = [\"prazo_saida_cd\", \"data_envio\", \"data_entrega\", \"prazo_entrega_transportadora\"]\n",
    "format_date_only = \"d MMM yyyy\"\n",
    "\n",
    "for date_col in date_only_cols:\n",
    "    expr = col(date_col)\n",
    "    for pt_month, en_month in month_map.items():\n",
    "        expr = regexp_replace(expr, pt_month, en_month) \n",
    "    df_pedidos = df_pedidos.withColumn(date_col, to_date(expr, format_date_only))\n",
    "\n",
    "# 3.2: Tratar a coluna `created_at` (formato \"28 fev., 2025, 23:42\")\n",
    "format_datetime = \"d MMM yyyy, HH:mm\"\n",
    "expr_ts = col(\"created_at\")\n",
    "\n",
    "for pt_month, en_month in month_map.items():\n",
    "    expr_ts = regexp_replace(expr_ts, pt_month, en_month)\n",
    "\n",
    "# Aplica as transformações em cadeia para criar as novas colunas\n",
    "df_pedidos = (df_pedidos\n",
    "    # 1. Cria uma coluna temporária com o timestamp completo\n",
    "    .withColumn(\"created_at_ts\", to_timestamp(expr_ts, format_datetime))\n",
    "    # 2. Cria a coluna de DATA a partir do timestamp\n",
    "    .withColumn(\"created_at_data\", to_date(col(\"created_at_ts\")))\n",
    "    # 3. Cria a coluna de HORA a partir do timestamp\n",
    "    .withColumn(\"created_at_hour\", hour(col(\"created_at_ts\")))\n",
    "    # 4. Remove a coluna original e a temporária\n",
    "    .drop(\"created_at\", \"created_at_ts\")\n",
    ")\n",
    "\n",
    "\n",
    "# 4. Criar DataFrame base para análise\n",
    "df_vendas = df_pedidos.join(df_itens, \"order_id\", \"inner\")\n"
   ]
  },
  {
   "cell_type": "code",
   "execution_count": 0,
   "metadata": {
    "application/vnd.databricks.v1+cell": {
     "cellMetadata": {
      "byteLimit": 2048000,
      "rowLimit": 10000
     },
     "collapsed": true,
     "inputWidgets": {},
     "nuid": "be32864c-7596-4004-90d1-b774bae158f3",
     "showTitle": true,
     "tableResultSettingsMap": {},
     "title": "1.1. Análise de Vendas ao Longo do Tempo"
    }
   },
   "outputs": [
    {
     "output_type": "display_data",
     "data": {
      "text/plain": [
       "Databricks visualization. Run in Databricks to view."
      ]
     },
     "metadata": {
      "application/vnd.databricks.v1.subcommand+json": {
       "baseErrorDetails": null,
       "bindings": {},
       "collapsed": false,
       "command": "%python\n__backend_agg_display_orig = display\n__backend_agg_dfs = []\ndef __backend_agg_display_new(df):\n    __backend_agg_df_modules = [\"pandas.core.frame\", \"databricks.koalas.frame\", \"pyspark.sql.dataframe\", \"pyspark.pandas.frame\", \"pyspark.sql.connect.dataframe\"]\n    if (type(df).__module__ in __backend_agg_df_modules and type(df).__name__ == 'DataFrame') or isinstance(df, list):\n        __backend_agg_dfs.append(df)\n\ndisplay = __backend_agg_display_new\n\ndef __backend_agg_user_code_fn():\n    import base64\n    exec(base64.standard_b64decode(\"IyAgMS4xLiBBbsOhbGlzZSBkZSBWZW5kYXMgYW8gTG9uZ28gZG8gVGVtcG8KIyBWYW1vcyB2aXN1YWxpemFyIG8gZmF0dXJhbWVudG8gZSBvIG7Dum1lcm8gZGUgcGVkaWRvcyBwb3IgZGlhIHBhcmEgaWRlbnRpZmljYXIgcGljb3MsIHF1ZWRhcyBlIHBhZHLDtWVzLgojIE8gcXVlIGFuYWxpc2FyIG5vcyByZXN1bHRhZG9zOgojIFBpY29zIGRlIFZlbmRhczogRXhpc3RlbSBkaWFzIGVzcGVjw61maWNvcyAoZmluYWlzIGRlIHNlbWFuYSwgaW7DrWNpby9maW0gZGUgbcOqcykgY29tIHZlbmRhcyBtdWl0byBtYWlzIGFsdGFzPwojIFNhem9uYWxpZGFkZTogVm9jw6ogY29uc2VndWUgb2JzZXJ2YXIgYWxndW0gcGFkcsOjbyBzZW1hbmFsIG91IG1lbnNhbD8KCnZlbmRhc19kaWFyaWFzID0gZGZfcGVkaWRvcy5ncm91cEJ5KCJjcmVhdGVkX2F0X2RhdGEiKSBcCiAgICAgICAgICAgICAgICAgICAgICAgICAgIC5hZ2coCiAgICAgICAgICAgICAgICAgICAgICAgICAgICAgICBzdW0oInZhbG9yX25mIikuYWxpYXMoImZhdHVyYW1lbnRvX3RvdGFsIiksCiAgICAgICAgICAgICAgICAgICAgICAgICAgICAgICBjb3VudCgib3JkZXJfaWQiKS5hbGlhcygibnVtZXJvX3BlZGlkb3MiKQogICAgICAgICAgICAgICAgICAgICAgICAgICApLm9yZGVyQnkoImNyZWF0ZWRfYXRfZGF0YSIpCgpwcmludCgiLS0tIFZlbmRhcyBEacOhcmlhcyAoRmF0dXJhbWVudG8gZSBOwrAgZGUgUGVkaWRvcykgLS0tIikKZGlzcGxheSh2ZW5kYXNfZGlhcmlhcyk=\").decode())\n\ntry:\n    # run user code\n    __backend_agg_user_code_fn()\n\n    #reset display function\n    display = __backend_agg_display_orig\n\n    if len(__backend_agg_dfs) > 0:\n        # create a temp view\n        if type(__backend_agg_dfs[0]).__module__ == \"databricks.koalas.frame\":\n            # koalas dataframe\n            __backend_agg_dfs[0].to_spark().createOrReplaceTempView(\"DatabricksViewdc634ef\")\n        elif type(__backend_agg_dfs[0]).__module__ == \"pandas.core.frame\" or isinstance(__backend_agg_dfs[0], list):\n            # pandas dataframe\n            spark.createDataFrame(__backend_agg_dfs[0]).createOrReplaceTempView(\"DatabricksViewdc634ef\")\n        else:\n            __backend_agg_dfs[0].createOrReplaceTempView(\"DatabricksViewdc634ef\")\n        #run backend agg\n        display(spark.sql(\"\"\"WITH q AS (select * from DatabricksViewdc634ef) SELECT `faturamento_total`,`created_at_data` FROM q\"\"\"))\n    else:\n        displayHTML(\"dataframe no longer exists. If you're using dataframe.display(), use display(dataframe) instead.\")\n\n\nfinally:\n    spark.sql(\"drop view if exists DatabricksViewdc634ef\")\n    display = __backend_agg_display_orig\n    del __backend_agg_display_new\n    del __backend_agg_display_orig\n    del __backend_agg_dfs\n    del __backend_agg_user_code_fn\n\n",
       "commandTitle": "teste",
       "commandType": "auto",
       "commandVersion": 0,
       "commentThread": [],
       "commentsVisible": false,
       "contentSha256Hex": null,
       "customPlotOptions": {
        "redashChart": [
         {
          "key": "type",
          "value": "CHART"
         },
         {
          "key": "options",
          "value": {
           "alignYAxesAtZero": true,
           "coefficient": 1,
           "columnConfigurationMap": {
            "x": {
             "column": "created_at_data",
             "id": "column_e1e07629197"
            },
            "y": [
             {
              "column": "faturamento_total",
              "id": "column_e1e07629195"
             }
            ]
           },
           "dateTimeFormat": "DD/MM/YYYY HH:mm",
           "direction": {
            "type": "counterclockwise"
           },
           "error_y": {
            "type": "data",
            "visible": true
           },
           "globalSeriesType": "line",
           "isAggregationOn": false,
           "legend": {
            "traceorder": "normal"
           },
           "missingValuesAsZero": true,
           "numberFormat": "0,0.[00000]",
           "percentFormat": "0[.]00%",
           "series": {
            "error_y": {
             "type": "data",
             "visible": true
            },
            "stacking": null
           },
           "seriesOptions": {
            "faturamento_total": {
             "name": "faturamento_total",
             "type": "line",
             "yAxis": 0,
             "zIndex": 0
            }
           },
           "showDataLabels": false,
           "sizemode": "diameter",
           "sortX": true,
           "sortY": true,
           "swappedAxes": false,
           "textFormat": "",
           "useAggregationsUi": true,
           "valuesOptions": {},
           "version": 2,
           "xAxis": {
            "labels": {
             "enabled": true
            },
            "type": "-"
           },
           "yAxis": [
            {
             "type": "-"
            },
            {
             "opposite": true,
             "type": "-"
            }
           ]
          }
         }
        ]
       },
       "datasetPreviewNameToCmdIdMap": {},
       "diffDeletes": [],
       "diffInserts": [],
       "displayType": "redashChart",
       "error": null,
       "errorDetails": null,
       "errorSummary": null,
       "errorTraceType": null,
       "finishTime": 0,
       "globalVars": {},
       "guid": "",
       "height": "auto",
       "hideCommandCode": false,
       "hideCommandResult": false,
       "iPythonMetadata": null,
       "inputWidgets": {},
       "isLockedInExamMode": false,
       "latestAssumeRoleInfo": null,
       "latestUser": "a user",
       "latestUserId": null,
       "listResultMetadata": null,
       "metadata": {
        "byteLimit": 2048000,
        "rowLimit": 10000
       },
       "nuid": "195f0c64-c713-44c4-8a8a-fe8de2aef928",
       "origId": 0,
       "parentHierarchy": [],
       "pivotAggregation": null,
       "pivotColumns": null,
       "position": 20.0,
       "resultDbfsErrorMessage": null,
       "resultDbfsStatus": "INLINED_IN_TREE",
       "results": null,
       "showCommandTitle": false,
       "startTime": 0,
       "state": "input",
       "streamStates": {},
       "subcommandOptions": {
        "queryPlan": {
         "selects": [
          {
           "column": "faturamento_total",
           "type": "column"
          },
          {
           "column": "created_at_data",
           "type": "column"
          }
         ]
        }
       },
       "submitTime": 0,
       "subtype": "tableResultSubCmd.visualization",
       "tableResultIndex": 0,
       "tableResultSettingsMap": {},
       "useConsistentColors": false,
       "version": "CommandV1",
       "width": "auto",
       "workflows": null,
       "xColumns": null,
       "yColumns": null
      }
     },
     "output_type": "display_data"
    }
   ],
   "source": [
    "#  1.1. Análise de Vendas ao Longo do Tempo\n",
    "# Vamos visualizar o faturamento e o número de pedidos por dia para identificar picos, quedas e padrões.\n",
    "# O que analisar nos resultados:\n",
    "# Picos de Vendas: Existem dias específicos (finais de semana, início/fim de mês) com vendas muito mais altas?\n",
    "# Sazonalidade: Você consegue observar algum padrão semanal ou mensal?\n",
    "\n",
    "vendas_diarias = df_pedidos.groupBy(\"created_at_data\") \\\n",
    "                           .agg(\n",
    "                               sum(\"valor_nf\").alias(\"faturamento_total\"),\n",
    "                               count(\"order_id\").alias(\"numero_pedidos\")\n",
    "                           ).orderBy(\"created_at_data\")\n",
    "\n",
    "print(\"--- Vendas Diárias (Faturamento e N° de Pedidos) ---\")\n",
    "display(vendas_diarias)"
   ]
  },
  {
   "cell_type": "code",
   "execution_count": 0,
   "metadata": {
    "application/vnd.databricks.v1+cell": {
     "cellMetadata": {
      "byteLimit": 2048000,
      "rowLimit": 10000
     },
     "inputWidgets": {},
     "nuid": "37c7eeba-ee41-4e79-b6b7-327308788162",
     "showTitle": true,
     "tableResultSettingsMap": {
      "0": {
       "dataGridStateBlob": "{\"version\":1,\"tableState\":{\"columnPinning\":{\"left\":[\"#row_number#\"],\"right\":[]},\"columnSizing\":{},\"columnVisibility\":{}},\"settings\":{\"columns\":{}},\"syncTimestamp\":1760445553739}",
       "filterBlob": null,
       "queryPlanFiltersBlob": null,
       "tableResultIndex": 0
      }
     },
     "title": "1.2. Impacto  de Frete Grátis"
    }
   },
   "outputs": [
    {
     "output_type": "display_data",
     "data": {
      "text/plain": [
       "Databricks visualization. Run in Databricks to view."
      ]
     },
     "metadata": {
      "application/vnd.databricks.v1.subcommand+json": {
       "baseErrorDetails": null,
       "bindings": {},
       "collapsed": false,
       "command": "%python\n__backend_agg_display_orig = display\n__backend_agg_dfs = []\ndef __backend_agg_display_new(df):\n    __backend_agg_df_modules = [\"pandas.core.frame\", \"databricks.koalas.frame\", \"pyspark.sql.dataframe\", \"pyspark.pandas.frame\", \"pyspark.sql.connect.dataframe\"]\n    if (type(df).__module__ in __backend_agg_df_modules and type(df).__name__ == 'DataFrame') or isinstance(df, list):\n        __backend_agg_dfs.append(df)\n\ndisplay = __backend_agg_display_new\n\ndef __backend_agg_user_code_fn():\n    import base64\n    exec(base64.standard_b64decode(\"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\").decode())\n\ntry:\n    # run user code\n    __backend_agg_user_code_fn()\n\n    #reset display function\n    display = __backend_agg_display_orig\n\n    if len(__backend_agg_dfs) > 0:\n        # create a temp view\n        if type(__backend_agg_dfs[0]).__module__ == \"databricks.koalas.frame\":\n            # koalas dataframe\n            __backend_agg_dfs[0].to_spark().createOrReplaceTempView(\"DatabricksView694aa38\")\n        elif type(__backend_agg_dfs[0]).__module__ == \"pandas.core.frame\" or isinstance(__backend_agg_dfs[0], list):\n            # pandas dataframe\n            spark.createDataFrame(__backend_agg_dfs[0]).createOrReplaceTempView(\"DatabricksView694aa38\")\n        else:\n            __backend_agg_dfs[0].createOrReplaceTempView(\"DatabricksView694aa38\")\n        #run backend agg\n        display(spark.sql(\"\"\"WITH q AS (select * from DatabricksView694aa38) SELECT `tipo_frete`,`ticket_medio`,`ticket_medio` FROM q\"\"\"))\n    else:\n        displayHTML(\"dataframe no longer exists. If you're using dataframe.display(), use display(dataframe) instead.\")\n\n\nfinally:\n    spark.sql(\"drop view if exists DatabricksView694aa38\")\n    display = __backend_agg_display_orig\n    del __backend_agg_display_new\n    del __backend_agg_display_orig\n    del __backend_agg_dfs\n    del __backend_agg_user_code_fn\n\n",
       "commandTitle": "Visualization 1",
       "commandType": "auto",
       "commandVersion": 0,
       "commentThread": [],
       "commentsVisible": false,
       "contentSha256Hex": null,
       "customPlotOptions": {
        "redashChart": [
         {
          "key": "type",
          "value": "CHART"
         },
         {
          "key": "options",
          "value": {
           "alignYAxesAtZero": true,
           "coefficient": 1,
           "columnConfigurationMap": {
            "series": {
             "column": "ticket_medio",
             "id": "column_1a0c0223401"
            },
            "x": {
             "column": "tipo_frete",
             "id": "column_1a0c0223400"
            },
            "y": [
             {
              "column": "ticket_medio",
              "id": "column_1a0c0223403"
             }
            ]
           },
           "dateTimeFormat": "DD/MM/YYYY HH:mm",
           "direction": {
            "type": "counterclockwise"
           },
           "error_y": {
            "type": "data",
            "visible": true
           },
           "globalSeriesType": "column",
           "isAggregationOn": false,
           "legend": {
            "traceorder": "normal"
           },
           "missingValuesAsZero": true,
           "numberFormat": "0,0.[00000]",
           "percentFormat": "0[.]00%",
           "series": {
            "error_y": {
             "type": "data",
             "visible": true
            },
            "stacking": null
           },
           "seriesOptions": {
            "column_1a0c0223403": {
             "type": "column",
             "yAxis": 0
            },
            "ticket_medio": {
             "type": "column",
             "yAxis": 0
            }
           },
           "showDataLabels": false,
           "sizemode": "diameter",
           "sortX": true,
           "sortY": true,
           "swappedAxes": false,
           "textFormat": "",
           "useAggregationsUi": true,
           "valuesOptions": {},
           "version": 2,
           "xAxis": {
            "labels": {
             "enabled": true
            },
            "type": "-"
           },
           "yAxis": [
            {
             "type": "-"
            },
            {
             "opposite": true,
             "type": "-"
            }
           ]
          }
         }
        ]
       },
       "datasetPreviewNameToCmdIdMap": {},
       "diffDeletes": [],
       "diffInserts": [],
       "displayType": "redashChart",
       "error": null,
       "errorDetails": null,
       "errorSummary": null,
       "errorTraceType": null,
       "finishTime": 0,
       "globalVars": {},
       "guid": "",
       "height": "auto",
       "hideCommandCode": false,
       "hideCommandResult": false,
       "iPythonMetadata": null,
       "inputWidgets": {},
       "isLockedInExamMode": false,
       "latestAssumeRoleInfo": null,
       "latestUser": "a user",
       "latestUserId": null,
       "listResultMetadata": null,
       "metadata": {
        "byteLimit": 2048000,
        "rowLimit": 10000
       },
       "nuid": "62aebe2b-6a6d-4976-b729-85e68d9fee98",
       "origId": 0,
       "parentHierarchy": [],
       "pivotAggregation": null,
       "pivotColumns": null,
       "position": 7.0,
       "resultDbfsErrorMessage": null,
       "resultDbfsStatus": "INLINED_IN_TREE",
       "results": null,
       "showCommandTitle": false,
       "startTime": 0,
       "state": "input",
       "streamStates": {},
       "subcommandOptions": {
        "queryPlan": {
         "selects": [
          {
           "column": "tipo_frete",
           "type": "column"
          },
          {
           "column": "ticket_medio",
           "type": "column"
          },
          {
           "column": "ticket_medio",
           "type": "column"
          }
         ]
        }
       },
       "submitTime": 0,
       "subtype": "tableResultSubCmd.visualization",
       "tableResultIndex": 0,
       "tableResultSettingsMap": {},
       "useConsistentColors": false,
       "version": "CommandV1",
       "width": "auto",
       "workflows": null,
       "xColumns": null,
       "yColumns": null
      }
     },
     "output_type": "display_data"
    },
    {
     "output_type": "display_data",
     "data": {
      "text/plain": [
       "Databricks visualization. Run in Databricks to view."
      ]
     },
     "metadata": {
      "application/vnd.databricks.v1.subcommand+json": {
       "baseErrorDetails": null,
       "bindings": {},
       "collapsed": false,
       "command": "%python\n__backend_agg_display_orig = display\n__backend_agg_dfs = []\ndef __backend_agg_display_new(df):\n    __backend_agg_df_modules = [\"pandas.core.frame\", \"databricks.koalas.frame\", \"pyspark.sql.dataframe\", \"pyspark.pandas.frame\", \"pyspark.sql.connect.dataframe\"]\n    if (type(df).__module__ in __backend_agg_df_modules and type(df).__name__ == 'DataFrame') or isinstance(df, list):\n        __backend_agg_dfs.append(df)\n\ndisplay = __backend_agg_display_new\n\ndef __backend_agg_user_code_fn():\n    import base64\n    exec(base64.standard_b64decode(\"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\").decode())\n\ntry:\n    # run user code\n    __backend_agg_user_code_fn()\n\n    #reset display function\n    display = __backend_agg_display_orig\n\n    if len(__backend_agg_dfs) > 1:\n        # create a temp view\n        if type(__backend_agg_dfs[1]).__module__ == \"databricks.koalas.frame\":\n            # koalas dataframe\n            __backend_agg_dfs[1].to_spark().createOrReplaceTempView(\"DatabricksViewd4e175b\")\n        elif type(__backend_agg_dfs[1]).__module__ == \"pandas.core.frame\" or isinstance(__backend_agg_dfs[1], list):\n            # pandas dataframe\n            spark.createDataFrame(__backend_agg_dfs[1]).createOrReplaceTempView(\"DatabricksViewd4e175b\")\n        else:\n            __backend_agg_dfs[1].createOrReplaceTempView(\"DatabricksViewd4e175b\")\n        #run backend agg\n        display(spark.sql(\"\"\"WITH q AS (select * from DatabricksViewd4e175b) SELECT `created_at_data`,`media_itens_por_pedido`,`tipo_frete` FROM q\"\"\"))\n    else:\n        displayHTML(\"dataframe no longer exists. If you're using dataframe.display(), use display(dataframe) instead.\")\n\n\nfinally:\n    spark.sql(\"drop view if exists DatabricksViewd4e175b\")\n    display = __backend_agg_display_orig\n    del __backend_agg_display_new\n    del __backend_agg_display_orig\n    del __backend_agg_dfs\n    del __backend_agg_user_code_fn\n\n",
       "commandTitle": "Visualization 1",
       "commandType": "auto",
       "commandVersion": 0,
       "commentThread": [],
       "commentsVisible": false,
       "contentSha256Hex": null,
       "customPlotOptions": {
        "redashChart": [
         {
          "key": "type",
          "value": "CHART"
         },
         {
          "key": "options",
          "value": {
           "alignYAxesAtZero": true,
           "coefficient": 1,
           "columnConfigurationMap": {
            "x": {
             "column": "created_at_data",
             "id": "column_1a0c0223394"
            },
            "y": [
             {
              "column": "media_itens_por_pedido",
              "id": "column_1a0c0223397"
             }
            ]
           },
           "dateTimeFormat": "DD/MM/YYYY HH:mm",
           "direction": {
            "type": "counterclockwise"
           },
           "error_y": {
            "type": "data",
            "visible": true
           },
           "globalSeriesType": "line",
           "isAggregationOn": false,
           "legend": {
            "traceorder": "normal"
           },
           "missingValuesAsZero": true,
           "numberFormat": "0,0.[00000]",
           "percentFormat": "0[.]00%",
           "series": {
            "error_y": {
             "type": "data",
             "visible": true
            },
            "stacking": null
           },
           "seriesOptions": {
            "media_itens_por_pedido": {
             "type": "line",
             "yAxis": 0
            }
           },
           "showDataLabels": false,
           "sizemode": "diameter",
           "sortX": true,
           "sortY": true,
           "swappedAxes": false,
           "textFormat": "",
           "useAggregationsUi": true,
           "valuesOptions": {},
           "version": 2,
           "xAxis": {
            "labels": {
             "enabled": true
            },
            "type": "-"
           },
           "yAxis": [
            {
             "type": "-"
            },
            {
             "opposite": true,
             "type": "-"
            }
           ]
          }
         }
        ]
       },
       "datasetPreviewNameToCmdIdMap": {},
       "diffDeletes": [],
       "diffInserts": [],
       "displayType": "redashChart",
       "error": null,
       "errorDetails": null,
       "errorSummary": null,
       "errorTraceType": null,
       "finishTime": 0,
       "globalVars": {},
       "guid": "",
       "height": "auto",
       "hideCommandCode": false,
       "hideCommandResult": false,
       "iPythonMetadata": null,
       "inputWidgets": {},
       "isLockedInExamMode": false,
       "latestAssumeRoleInfo": null,
       "latestUser": "a user",
       "latestUserId": null,
       "listResultMetadata": null,
       "metadata": {
        "byteLimit": 2048000,
        "rowLimit": 10000
       },
       "nuid": "b8a1dce7-91a6-459b-a51c-ba4b3aa64f17",
       "origId": 0,
       "parentHierarchy": [],
       "pivotAggregation": null,
       "pivotColumns": null,
       "position": 7.0,
       "resultDbfsErrorMessage": null,
       "resultDbfsStatus": "INLINED_IN_TREE",
       "results": null,
       "showCommandTitle": false,
       "startTime": 0,
       "state": "input",
       "streamStates": {},
       "subcommandOptions": {
        "queryPlan": {
         "selects": [
          {
           "column": "created_at_data",
           "type": "column"
          },
          {
           "column": "media_itens_por_pedido",
           "type": "column"
          }
         ]
        }
       },
       "submitTime": 0,
       "subtype": "tableResultSubCmd.visualization",
       "tableResultIndex": 1,
       "tableResultSettingsMap": {},
       "useConsistentColors": false,
       "version": "CommandV1",
       "width": "auto",
       "workflows": null,
       "xColumns": null,
       "yColumns": null
      }
     },
     "output_type": "display_data"
    },
    {
     "output_type": "display_data",
     "data": {
      "text/plain": [
       "Databricks visualization. Run in Databricks to view."
      ]
     },
     "metadata": {
      "application/vnd.databricks.v1.subcommand+json": {
       "baseErrorDetails": null,
       "bindings": {},
       "collapsed": false,
       "command": "%python\n__backend_agg_display_orig = display\n__backend_agg_dfs = []\ndef __backend_agg_display_new(df):\n    __backend_agg_df_modules = [\"pandas.core.frame\", \"databricks.koalas.frame\", \"pyspark.sql.dataframe\", \"pyspark.pandas.frame\", \"pyspark.sql.connect.dataframe\"]\n    if (type(df).__module__ in __backend_agg_df_modules and type(df).__name__ == 'DataFrame') or isinstance(df, list):\n        __backend_agg_dfs.append(df)\n\ndisplay = __backend_agg_display_new\n\ndef __backend_agg_user_code_fn():\n    import base64\n    exec(base64.standard_b64decode(\"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\").decode())\n\ntry:\n    # run user code\n    __backend_agg_user_code_fn()\n\n    #reset display function\n    display = __backend_agg_display_orig\n\n    if len(__backend_agg_dfs) > 0:\n        # create a temp view\n        if type(__backend_agg_dfs[0]).__module__ == \"databricks.koalas.frame\":\n            # koalas dataframe\n            __backend_agg_dfs[0].to_spark().createOrReplaceTempView(\"DatabricksViewec1e2f9\")\n        elif type(__backend_agg_dfs[0]).__module__ == \"pandas.core.frame\" or isinstance(__backend_agg_dfs[0], list):\n            # pandas dataframe\n            spark.createDataFrame(__backend_agg_dfs[0]).createOrReplaceTempView(\"DatabricksViewec1e2f9\")\n        else:\n            __backend_agg_dfs[0].createOrReplaceTempView(\"DatabricksViewec1e2f9\")\n        #run backend agg\n        display(spark.sql(\"\"\"WITH q AS (select * from DatabricksViewec1e2f9) SELECT `tipo_frete`,`media_itens_por_pedido`,`tipo_frete` FROM q\"\"\"))\n    else:\n        displayHTML(\"dataframe no longer exists. If you're using dataframe.display(), use display(dataframe) instead.\")\n\n\nfinally:\n    spark.sql(\"drop view if exists DatabricksViewec1e2f9\")\n    display = __backend_agg_display_orig\n    del __backend_agg_display_new\n    del __backend_agg_display_orig\n    del __backend_agg_dfs\n    del __backend_agg_user_code_fn\n\n",
       "commandTitle": "Visualization 2",
       "commandType": "auto",
       "commandVersion": 0,
       "commentThread": [],
       "commentsVisible": false,
       "contentSha256Hex": null,
       "customPlotOptions": {
        "redashChart": [
         {
          "key": "type",
          "value": "CHART"
         },
         {
          "key": "options",
          "value": {
           "alignYAxesAtZero": true,
           "coefficient": 1,
           "columnConfigurationMap": {
            "series": {
             "column": "tipo_frete",
             "id": "column_1a0c0223409"
            },
            "x": {
             "column": "tipo_frete",
             "id": "column_1a0c0223405"
            },
            "y": [
             {
              "column": "media_itens_por_pedido",
              "id": "column_1a0c0223407"
             }
            ]
           },
           "dateTimeFormat": "DD/MM/YYYY HH:mm",
           "direction": {
            "type": "counterclockwise"
           },
           "error_y": {
            "type": "data",
            "visible": true
           },
           "globalSeriesType": "column",
           "isAggregationOn": false,
           "legend": {
            "traceorder": "normal"
           },
           "missingValuesAsZero": true,
           "numberFormat": "0,0.[00000]",
           "percentFormat": "0[.]00%",
           "series": {
            "error_y": {
             "type": "data",
             "visible": true
            },
            "stacking": null
           },
           "seriesOptions": {
            "media_itens_por_pedido": {
             "type": "column",
             "yAxis": 0
            }
           },
           "showDataLabels": false,
           "sizemode": "diameter",
           "sortX": true,
           "sortY": true,
           "swappedAxes": false,
           "textFormat": "",
           "useAggregationsUi": true,
           "valuesOptions": {},
           "version": 2,
           "xAxis": {
            "labels": {
             "enabled": true
            },
            "type": "-"
           },
           "yAxis": [
            {
             "type": "-"
            },
            {
             "opposite": true,
             "type": "-"
            }
           ]
          }
         }
        ]
       },
       "datasetPreviewNameToCmdIdMap": {},
       "diffDeletes": [],
       "diffInserts": [],
       "displayType": "redashChart",
       "error": null,
       "errorDetails": null,
       "errorSummary": null,
       "errorTraceType": null,
       "finishTime": 0,
       "globalVars": {},
       "guid": "",
       "height": "auto",
       "hideCommandCode": false,
       "hideCommandResult": false,
       "iPythonMetadata": null,
       "inputWidgets": {},
       "isLockedInExamMode": false,
       "latestAssumeRoleInfo": null,
       "latestUser": "a user",
       "latestUserId": null,
       "listResultMetadata": null,
       "metadata": {
        "byteLimit": 2048000,
        "rowLimit": 10000
       },
       "nuid": "c8587bb1-9470-4cfa-8ce8-8d47b0a739ff",
       "origId": 0,
       "parentHierarchy": [],
       "pivotAggregation": null,
       "pivotColumns": null,
       "position": 8.0,
       "resultDbfsErrorMessage": null,
       "resultDbfsStatus": "INLINED_IN_TREE",
       "results": null,
       "showCommandTitle": false,
       "startTime": 0,
       "state": "input",
       "streamStates": {},
       "subcommandOptions": {
        "queryPlan": {
         "selects": [
          {
           "column": "tipo_frete",
           "type": "column"
          },
          {
           "column": "media_itens_por_pedido",
           "type": "column"
          },
          {
           "column": "tipo_frete",
           "type": "column"
          }
         ]
        }
       },
       "submitTime": 0,
       "subtype": "tableResultSubCmd.visualization",
       "tableResultIndex": 0,
       "tableResultSettingsMap": {},
       "useConsistentColors": false,
       "version": "CommandV1",
       "width": "auto",
       "workflows": null,
       "xColumns": null,
       "yColumns": null
      }
     },
     "output_type": "display_data"
    },
    {
     "output_type": "display_data",
     "data": {
      "text/plain": [
       "Databricks visualization. Run in Databricks to view."
      ]
     },
     "metadata": {
      "application/vnd.databricks.v1.subcommand+json": {
       "baseErrorDetails": null,
       "bindings": {},
       "collapsed": false,
       "command": "%python\n__backend_agg_display_orig = display\n__backend_agg_dfs = []\ndef __backend_agg_display_new(df):\n    __backend_agg_df_modules = [\"pandas.core.frame\", \"databricks.koalas.frame\", \"pyspark.sql.dataframe\", \"pyspark.pandas.frame\", \"pyspark.sql.connect.dataframe\"]\n    if (type(df).__module__ in __backend_agg_df_modules and type(df).__name__ == 'DataFrame') or isinstance(df, list):\n        __backend_agg_dfs.append(df)\n\ndisplay = __backend_agg_display_new\n\ndef __backend_agg_user_code_fn():\n    import base64\n    exec(base64.standard_b64decode(\"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\").decode())\n\ntry:\n    # run user code\n    __backend_agg_user_code_fn()\n\n    #reset display function\n    display = __backend_agg_display_orig\n\n    if len(__backend_agg_dfs) > 2:\n        # create a temp view\n        if type(__backend_agg_dfs[2]).__module__ == \"databricks.koalas.frame\":\n            # koalas dataframe\n            __backend_agg_dfs[2].to_spark().createOrReplaceTempView(\"DatabricksView3fd584e\")\n        elif type(__backend_agg_dfs[2]).__module__ == \"pandas.core.frame\" or isinstance(__backend_agg_dfs[2], list):\n            # pandas dataframe\n            spark.createDataFrame(__backend_agg_dfs[2]).createOrReplaceTempView(\"DatabricksView3fd584e\")\n        else:\n            __backend_agg_dfs[2].createOrReplaceTempView(\"DatabricksView3fd584e\")\n        #run backend agg\n        display(spark.sql(\"\"\"WITH q AS (select * from DatabricksView3fd584e) SELECT `created_at_data`,`media_itens_por_pedido` FROM q\"\"\"))\n    else:\n        displayHTML(\"dataframe no longer exists. If you're using dataframe.display(), use display(dataframe) instead.\")\n\n\nfinally:\n    spark.sql(\"drop view if exists DatabricksView3fd584e\")\n    display = __backend_agg_display_orig\n    del __backend_agg_display_new\n    del __backend_agg_display_orig\n    del __backend_agg_dfs\n    del __backend_agg_user_code_fn\n\n",
       "commandTitle": "Visualization 1",
       "commandType": "auto",
       "commandVersion": 0,
       "commentThread": [],
       "commentsVisible": false,
       "contentSha256Hex": null,
       "customPlotOptions": {
        "redashChart": [
         {
          "key": "type",
          "value": "CHART"
         },
         {
          "key": "options",
          "value": {
           "alignYAxesAtZero": true,
           "coefficient": 1,
           "columnConfigurationMap": {
            "x": {
             "column": "created_at_data",
             "id": "column_1a0c0223493"
            },
            "y": [
             {
              "column": "media_itens_por_pedido",
              "id": "column_1a0c0223494"
             }
            ]
           },
           "dateTimeFormat": "DD/MM/YYYY HH:mm",
           "direction": {
            "type": "counterclockwise"
           },
           "error_y": {
            "type": "data",
            "visible": true
           },
           "globalSeriesType": "line",
           "isAggregationOn": false,
           "legend": {
            "traceorder": "normal"
           },
           "missingValuesAsZero": true,
           "numberFormat": "0,0.[00000]",
           "percentFormat": "0[.]00%",
           "series": {
            "error_y": {
             "type": "data",
             "visible": true
            },
            "stacking": null
           },
           "seriesOptions": {
            "media_itens_por_pedido": {
             "name": "media_itens_por_pedido",
             "type": "line",
             "yAxis": 0
            }
           },
           "showDataLabels": false,
           "sizemode": "diameter",
           "sortX": true,
           "sortY": true,
           "swappedAxes": false,
           "textFormat": "",
           "useAggregationsUi": true,
           "valuesOptions": {},
           "version": 2,
           "xAxis": {
            "labels": {
             "enabled": true
            },
            "type": "-"
           },
           "yAxis": [
            {
             "type": "-"
            },
            {
             "opposite": true,
             "type": "-"
            }
           ]
          }
         }
        ]
       },
       "datasetPreviewNameToCmdIdMap": {},
       "diffDeletes": [],
       "diffInserts": [],
       "displayType": "redashChart",
       "error": null,
       "errorDetails": null,
       "errorSummary": null,
       "errorTraceType": null,
       "finishTime": 0,
       "globalVars": {},
       "guid": "",
       "height": "auto",
       "hideCommandCode": false,
       "hideCommandResult": false,
       "iPythonMetadata": null,
       "inputWidgets": {},
       "isLockedInExamMode": false,
       "latestAssumeRoleInfo": null,
       "latestUser": "a user",
       "latestUserId": null,
       "listResultMetadata": null,
       "metadata": {},
       "nuid": "82460674-1b24-4834-986b-3ddef6ff3747",
       "origId": 0,
       "parentHierarchy": [],
       "pivotAggregation": null,
       "pivotColumns": null,
       "position": 7.0,
       "resultDbfsErrorMessage": null,
       "resultDbfsStatus": "INLINED_IN_TREE",
       "results": null,
       "showCommandTitle": false,
       "startTime": 0,
       "state": "input",
       "streamStates": {},
       "subcommandOptions": {
        "queryPlan": {
         "selects": [
          {
           "column": "created_at_data",
           "type": "column"
          },
          {
           "column": "media_itens_por_pedido",
           "type": "column"
          }
         ]
        }
       },
       "submitTime": 0,
       "subtype": "tableResultSubCmd.visualization",
       "tableResultIndex": 2,
       "tableResultSettingsMap": {},
       "useConsistentColors": false,
       "version": "CommandV1",
       "width": "auto",
       "workflows": null,
       "xColumns": null,
       "yColumns": null
      }
     },
     "output_type": "display_data"
    }
   ],
   "source": [
    "# 1.2. Impacto da Promoção de Frete Grátis\n",
    "# Queremos saber se oferecer frete grátis incentiva os clientes a gastarem mais ou a comprarem mais itens.\n",
    "# O que analisar nos resultados:\n",
    "# Ticket Médio: O valor médio do pedido (ticket_medio) é significativamente maior nos pedidos com \"Frete Grátis\"? Se sim, a promoção está se pagando.\n",
    "# Média de Itens: Os clientes adicionam mais produtos ao carrinho para atingir o frete grátis? Compare a media_itens_por_pedido.\n",
    "# Segmentamos os pedidos em dois grupos: com frete pago e com frete grátis.\n",
    "\n",
    "analise_frete = (df_pedidos.withColumn(\"tipo_frete\", when(col(\"frete_cliente\") > 0, \"Pago\")\n",
    "                           .otherwise(\"Grátis\"))\n",
    "                           .groupBy(\"tipo_frete\") \n",
    "                           .agg(avg(\"valor_nf\").alias(\"ticket_medio\"),\n",
    "                                avg(\"num_itens\").alias(\"media_itens_por_pedido\"),\n",
    "                                count(\"order_id\").alias(\"total_pedidos\")\n",
    "                                )\n",
    "                           )\n",
    "analise_frete_dia = (df_pedidos.withColumn(\"tipo_frete\", when(col(\"frete_cliente\") > 0, \"Pago\")\n",
    "                           .otherwise(\"Grátis\"))\n",
    "                           .groupBy(\"tipo_frete\",\"created_at_data\") \n",
    "                           .agg(avg(\"valor_nf\").alias(\"ticket_medio\"),\n",
    "                                avg(\"num_itens\").alias(\"media_itens_por_pedido\"),\n",
    "                                count(\"order_id\").alias(\"total_pedidos\")\n",
    "                                )\n",
    "                           )\n",
    "analise_frete_dia_gratis=(analise_frete_dia.select(\"created_at_data\", \"media_itens_por_pedido\")\n",
    "                                           .filter(col(\"tipo_frete\")==\"Grátis\")\n",
    "                                           .orderBy(\"created_at_data\")\n",
    "                                           )\n",
    "analise_frete_dia_pago=(analise_frete_dia.select(\"created_at_data\", \"media_itens_por_pedido\")\n",
    "                                           .filter(col(\"tipo_frete\")==\"Pago\")\n",
    "                                           .orderBy(\"created_at_data\")\n",
    "                                           )\n",
    "\n",
    "print(\"--- Análise de Impacto do Frete Grátis ---\")\n",
    "display(analise_frete)\n",
    "display(analise_frete_dia_gratis)\n",
    "display(analise_frete_dia_pago)"
   ]
  },
  {
   "cell_type": "code",
   "execution_count": 0,
   "metadata": {
    "application/vnd.databricks.v1+cell": {
     "cellMetadata": {
      "byteLimit": 2048000,
      "rowLimit": 10000
     },
     "inputWidgets": {},
     "nuid": "e61fd581-8427-4937-9462-5ea1f87f9bb0",
     "showTitle": true,
     "tableResultSettingsMap": {
      "0": {
       "dataGridStateBlob": "{\"version\":1,\"tableState\":{\"columnPinning\":{\"left\":[\"#row_number#\"],\"right\":[]},\"columnSizing\":{},\"columnVisibility\":{}},\"settings\":{\"columns\":{}},\"syncTimestamp\":1760195108168}",
       "filterBlob": null,
       "queryPlanFiltersBlob": null,
       "tableResultIndex": 0
      }
     },
     "title": "1.3 Quais categorias ou produtos possuem maior impacto no faturamento?"
    }
   },
   "outputs": [
    {
     "output_type": "display_data",
     "data": {
      "text/plain": [
       "Databricks visualization. Run in Databricks to view."
      ]
     },
     "metadata": {
      "application/vnd.databricks.v1.subcommand+json": {
       "baseErrorDetails": null,
       "bindings": {},
       "collapsed": false,
       "command": "%python\n__backend_agg_display_orig = display\n__backend_agg_dfs = []\ndef __backend_agg_display_new(df):\n    __backend_agg_df_modules = [\"pandas.core.frame\", \"databricks.koalas.frame\", \"pyspark.sql.dataframe\", \"pyspark.pandas.frame\", \"pyspark.sql.connect.dataframe\"]\n    if (type(df).__module__ in __backend_agg_df_modules and type(df).__name__ == 'DataFrame') or isinstance(df, list):\n        __backend_agg_dfs.append(df)\n\ndisplay = __backend_agg_display_new\n\ndef __backend_agg_user_code_fn():\n    import base64\n    exec(base64.standard_b64decode(\"IyAxLjMgUXVhaXMgY2F0ZWdvcmlhcyBvdSBwcm9kdXRvcyBwb3NzdWVtIG1haW9yIGltcGFjdG8gbm8gZmF0dXJhbWVudG8/CiMgLS0tIFJhbmtpbmcgZGUgRmF0dXJhbWVudG8gcG9yIENhdGVnb3JpYSAtLS0KCmZhdHVyYW1lbnRvX3Bvcl9jYXRlZ29yaWEgPSBkZl92ZW5kYXMuZ3JvdXBCeSgibWF0ZXJpYWxfY2F0ZWdvcnkiKSBcCiAgICAgICAgICAgICAgICAgICAgICAgICAgICAgICAgICAgICAuYWdnKHN1bSgicHJpY2UiKS5jYXN0KCJpbnRlZ2VyIikuYWxpYXMoImZhdHVyYW1lbnRvX3RvdGFsIiksCiAgICAgICAgICAgICAgICAgICAgICAgICAgICAgICAgICAgICAgICAgY291bnQoIm9yZGVyX2lkIikuYWxpYXMoInVuaWRhZGVzX3ZlbmRpZGFzIikKICAgICAgICAgICAgICAgICAgICAgICAgICAgICAgICAgICAgICkub3JkZXJCeShkZXNjKCJmYXR1cmFtZW50b190b3RhbCIpKQoKcHJpbnQoIi0tLSBSYW5raW5nIGRlIEZhdHVyYW1lbnRvIHBvciBDYXRlZ29yaWEgZGUgUHJvZHV0byAtLS0iKQpkaXNwbGF5KGZhdHVyYW1lbnRvX3Bvcl9jYXRlZ29yaWEpCgojIC0tLSBSYW5raW5nIGRlIEZhdHVyYW1lbnRvIHBvciBQcm9kdXRvIC0tLQoKZmF0dXJhbWVudG9fcG9yX3Byb2R1dG8gPSBkZl92ZW5kYXMuZ3JvdXBCeSgibWF0ZXJpYWxfbmFtZSIpIFwKICAgICAgICAgICAgICAgICAgICAgICAgICAgICAgICAgICAuYWdnKHN1bSgicHJpY2UiKS5jYXN0KCJpbnRlZ2VyIikuYWxpYXMoImZhdHVyYW1lbnRvX3RvdGFsIiksCiAgICAgICAgICAgICAgICAgICAgICAgICAgICAgICAgICAgICAgIGNvdW50KCJvcmRlcl9pZCIpLmFsaWFzKCJ1bmlkYWRlc192ZW5kaWRhcyIpCiAgICAgICAgICAgICAgICAgICAgICAgICAgICAgICAgICAgKS5vcmRlckJ5KGRlc2MoImZhdHVyYW1lbnRvX3RvdGFsIikpCmZhdHVyYW1lbnRvX3Bvcl9wcm9kdXRvX3RvcDIwID0gZmF0dXJhbWVudG9fcG9yX3Byb2R1dG8ubGltaXQoMjApCnByaW50KCJcbi0tLSBUb3AgMjAgUHJvZHV0b3MgcG9yIEZhdHVyYW1lbnRvIChjb21vIGludGVpcm8pIC0tLSIpCmRpc3BsYXkoZmF0dXJhbWVudG9fcG9yX3Byb2R1dG9fdG9wMjAp\").decode())\n\ntry:\n    # run user code\n    __backend_agg_user_code_fn()\n\n    #reset display function\n    display = __backend_agg_display_orig\n\n    if len(__backend_agg_dfs) > 1:\n        # create a temp view\n        if type(__backend_agg_dfs[1]).__module__ == \"databricks.koalas.frame\":\n            # koalas dataframe\n            __backend_agg_dfs[1].to_spark().createOrReplaceTempView(\"DatabricksView08aa451\")\n        elif type(__backend_agg_dfs[1]).__module__ == \"pandas.core.frame\" or isinstance(__backend_agg_dfs[1], list):\n            # pandas dataframe\n            spark.createDataFrame(__backend_agg_dfs[1]).createOrReplaceTempView(\"DatabricksView08aa451\")\n        else:\n            __backend_agg_dfs[1].createOrReplaceTempView(\"DatabricksView08aa451\")\n        #run backend agg\n        display(spark.sql(\"\"\"WITH q AS (select * from DatabricksView08aa451) SELECT `material_name`,`faturamento_total`,`material_name` FROM q\"\"\"))\n    else:\n        displayHTML(\"dataframe no longer exists. If you're using dataframe.display(), use display(dataframe) instead.\")\n\n\nfinally:\n    spark.sql(\"drop view if exists DatabricksView08aa451\")\n    display = __backend_agg_display_orig\n    del __backend_agg_display_new\n    del __backend_agg_display_orig\n    del __backend_agg_dfs\n    del __backend_agg_user_code_fn\n\n",
       "commandTitle": "Visualization 1",
       "commandType": "auto",
       "commandVersion": 0,
       "commentThread": [],
       "commentsVisible": false,
       "contentSha256Hex": null,
       "customPlotOptions": {
        "redashChart": [
         {
          "key": "type",
          "value": "CHART"
         },
         {
          "key": "options",
          "value": {
           "alignYAxesAtZero": true,
           "coefficient": 1,
           "columnConfigurationMap": {
            "series": {
             "column": "material_name",
             "id": "column_415804c091"
            },
            "x": {
             "column": "material_name",
             "id": "column_415804c087"
            },
            "y": [
             {
              "column": "faturamento_total",
              "id": "column_415804c089"
             }
            ]
           },
           "dateTimeFormat": "DD/MM/YYYY HH:mm",
           "direction": {
            "type": "counterclockwise"
           },
           "error_y": {
            "type": "data",
            "visible": true
           },
           "globalSeriesType": "column",
           "isAggregationOn": false,
           "legend": {
            "traceorder": "normal"
           },
           "missingValuesAsZero": true,
           "numBins": 10,
           "numberFormat": "0,0.[00000]",
           "percentFormat": "0[.]00%",
           "series": {
            "error_y": {
             "type": "data",
             "visible": true
            },
            "percentValues": false,
            "stacking": ""
           },
           "seriesOptions": {
            "faturamento_total": {
             "type": "column",
             "yAxis": 0
            }
           },
           "showDataLabels": false,
           "sizemode": "diameter",
           "sortX": false,
           "sortY": true,
           "swappedAxes": true,
           "textFormat": "",
           "useAggregationsUi": true,
           "valuesOptions": {},
           "version": 2,
           "xAxis": {
            "labels": {
             "enabled": false
            },
            "type": "-"
           },
           "yAxis": [
            {
             "type": "-"
            },
            {
             "opposite": true,
             "type": "-"
            }
           ]
          }
         }
        ]
       },
       "datasetPreviewNameToCmdIdMap": {},
       "diffDeletes": [],
       "diffInserts": [],
       "displayType": "redashChart",
       "error": null,
       "errorDetails": null,
       "errorSummary": null,
       "errorTraceType": null,
       "finishTime": 0,
       "globalVars": {},
       "guid": "",
       "height": "auto",
       "hideCommandCode": false,
       "hideCommandResult": false,
       "iPythonMetadata": null,
       "inputWidgets": {},
       "isLockedInExamMode": false,
       "latestAssumeRoleInfo": null,
       "latestUser": "a user",
       "latestUserId": null,
       "listResultMetadata": null,
       "metadata": {
        "byteLimit": 2048000,
        "rowLimit": 10000
       },
       "nuid": "82c6d815-8655-423f-af6d-7dc30fb77c72",
       "origId": 0,
       "parentHierarchy": [],
       "pivotAggregation": null,
       "pivotColumns": null,
       "position": 23.0,
       "resultDbfsErrorMessage": null,
       "resultDbfsStatus": "INLINED_IN_TREE",
       "results": null,
       "showCommandTitle": false,
       "startTime": 0,
       "state": "input",
       "streamStates": {},
       "subcommandOptions": {
        "queryPlan": {
         "selects": [
          {
           "column": "material_name",
           "type": "column"
          },
          {
           "column": "faturamento_total",
           "type": "column"
          },
          {
           "column": "material_name",
           "type": "column"
          }
         ]
        }
       },
       "submitTime": 0,
       "subtype": "tableResultSubCmd.visualization",
       "tableResultIndex": 1,
       "tableResultSettingsMap": {},
       "useConsistentColors": false,
       "version": "CommandV1",
       "width": "auto",
       "workflows": null,
       "xColumns": null,
       "yColumns": null
      }
     },
     "output_type": "display_data"
    },
    {
     "output_type": "display_data",
     "data": {
      "text/plain": [
       "Databricks visualization. Run in Databricks to view."
      ]
     },
     "metadata": {
      "application/vnd.databricks.v1.subcommand+json": {
       "baseErrorDetails": null,
       "bindings": {},
       "collapsed": false,
       "command": "%python\n__backend_agg_display_orig = display\n__backend_agg_dfs = []\ndef __backend_agg_display_new(df):\n    __backend_agg_df_modules = [\"pandas.core.frame\", \"databricks.koalas.frame\", \"pyspark.sql.dataframe\", \"pyspark.pandas.frame\", \"pyspark.sql.connect.dataframe\"]\n    if (type(df).__module__ in __backend_agg_df_modules and type(df).__name__ == 'DataFrame') or isinstance(df, list):\n        __backend_agg_dfs.append(df)\n\ndisplay = __backend_agg_display_new\n\ndef __backend_agg_user_code_fn():\n    import base64\n    exec(base64.standard_b64decode(\"IyAxLjMgUXVhaXMgY2F0ZWdvcmlhcyBvdSBwcm9kdXRvcyBwb3NzdWVtIG1haW9yIGltcGFjdG8gbm8gZmF0dXJhbWVudG8/CiMgLS0tIFJhbmtpbmcgZGUgRmF0dXJhbWVudG8gcG9yIENhdGVnb3JpYSAtLS0KCmZhdHVyYW1lbnRvX3Bvcl9jYXRlZ29yaWEgPSBkZl92ZW5kYXMuZ3JvdXBCeSgibWF0ZXJpYWxfY2F0ZWdvcnkiKSBcCiAgICAgICAgICAgICAgICAgICAgICAgICAgICAgICAgICAgICAuYWdnKHN1bSgicHJpY2UiKS5jYXN0KCJpbnRlZ2VyIikuYWxpYXMoImZhdHVyYW1lbnRvX3RvdGFsIiksCiAgICAgICAgICAgICAgICAgICAgICAgICAgICAgICAgICAgICAgICAgY291bnQoIm9yZGVyX2lkIikuYWxpYXMoInVuaWRhZGVzX3ZlbmRpZGFzIikKICAgICAgICAgICAgICAgICAgICAgICAgICAgICAgICAgICAgICkub3JkZXJCeShkZXNjKCJmYXR1cmFtZW50b190b3RhbCIpKQoKcHJpbnQoIi0tLSBSYW5raW5nIGRlIEZhdHVyYW1lbnRvIHBvciBDYXRlZ29yaWEgZGUgUHJvZHV0byAtLS0iKQpkaXNwbGF5KGZhdHVyYW1lbnRvX3Bvcl9jYXRlZ29yaWEpCgojIC0tLSBSYW5raW5nIGRlIEZhdHVyYW1lbnRvIHBvciBQcm9kdXRvIC0tLQoKZmF0dXJhbWVudG9fcG9yX3Byb2R1dG8gPSBkZl92ZW5kYXMuZ3JvdXBCeSgibWF0ZXJpYWxfbmFtZSIpIFwKICAgICAgICAgICAgICAgICAgICAgICAgICAgICAgICAgICAuYWdnKHN1bSgicHJpY2UiKS5jYXN0KCJpbnRlZ2VyIikuYWxpYXMoImZhdHVyYW1lbnRvX3RvdGFsIiksCiAgICAgICAgICAgICAgICAgICAgICAgICAgICAgICAgICAgICAgIGNvdW50KCJvcmRlcl9pZCIpLmFsaWFzKCJ1bmlkYWRlc192ZW5kaWRhcyIpCiAgICAgICAgICAgICAgICAgICAgICAgICAgICAgICAgICAgKS5vcmRlckJ5KGRlc2MoImZhdHVyYW1lbnRvX3RvdGFsIikpCmZhdHVyYW1lbnRvX3Bvcl9wcm9kdXRvX3RvcDIwID0gZmF0dXJhbWVudG9fcG9yX3Byb2R1dG8ubGltaXQoMjApCnByaW50KCJcbi0tLSBUb3AgMjAgUHJvZHV0b3MgcG9yIEZhdHVyYW1lbnRvIChjb21vIGludGVpcm8pIC0tLSIpCmRpc3BsYXkoZmF0dXJhbWVudG9fcG9yX3Byb2R1dG9fdG9wMjAp\").decode())\n\ntry:\n    # run user code\n    __backend_agg_user_code_fn()\n\n    #reset display function\n    display = __backend_agg_display_orig\n\n    if len(__backend_agg_dfs) > 0:\n        # create a temp view\n        if type(__backend_agg_dfs[0]).__module__ == \"databricks.koalas.frame\":\n            # koalas dataframe\n            __backend_agg_dfs[0].to_spark().createOrReplaceTempView(\"DatabricksView49b699e\")\n        elif type(__backend_agg_dfs[0]).__module__ == \"pandas.core.frame\" or isinstance(__backend_agg_dfs[0], list):\n            # pandas dataframe\n            spark.createDataFrame(__backend_agg_dfs[0]).createOrReplaceTempView(\"DatabricksView49b699e\")\n        else:\n            __backend_agg_dfs[0].createOrReplaceTempView(\"DatabricksView49b699e\")\n        #run backend agg\n        display(spark.sql(\"\"\"WITH q AS (select * from DatabricksView49b699e) SELECT `material_category`,`faturamento_total`,`material_category` FROM q\"\"\"))\n    else:\n        displayHTML(\"dataframe no longer exists. If you're using dataframe.display(), use display(dataframe) instead.\")\n\n\nfinally:\n    spark.sql(\"drop view if exists DatabricksView49b699e\")\n    display = __backend_agg_display_orig\n    del __backend_agg_display_new\n    del __backend_agg_display_orig\n    del __backend_agg_dfs\n    del __backend_agg_user_code_fn\n\n",
       "commandTitle": "Visualization 1",
       "commandType": "auto",
       "commandVersion": 0,
       "commentThread": [],
       "commentsVisible": false,
       "contentSha256Hex": null,
       "customPlotOptions": {
        "redashChart": [
         {
          "key": "type",
          "value": "CHART"
         },
         {
          "key": "options",
          "value": {
           "alignYAxesAtZero": false,
           "coefficient": 1,
           "columnConfigurationMap": {
            "series": {
             "column": "material_category",
             "id": "column_20bbc60c146"
            },
            "x": {
             "column": "material_category",
             "id": "column_20bbc60c135"
            },
            "y": [
             {
              "column": "faturamento_total",
              "id": "column_20bbc60c140"
             }
            ]
           },
           "dateTimeFormat": "DD/MM/YYYY HH:mm",
           "direction": {
            "type": "counterclockwise"
           },
           "error_y": {
            "type": "data",
            "visible": true
           },
           "globalSeriesType": "column",
           "hideXAxis": false,
           "hideYAxes": false,
           "isAggregationOn": false,
           "legend": {
            "traceorder": "normal"
           },
           "missingValuesAsZero": true,
           "numberFormat": "0,0.[00000]",
           "percentFormat": "0[.]00%",
           "reverseX": false,
           "series": {
            "error_y": {
             "type": "data",
             "visible": true
            },
            "percentValues": false,
            "stacking": ""
           },
           "seriesOptions": {
            "column_20bbc60c137": {
             "type": "column",
             "yAxis": 0
            },
            "column_20bbc60c140": {
             "type": "column",
             "yAxis": 0
            },
            "column_20bbc60c143": {
             "type": "column",
             "yAxis": 0
            },
            "faturamento_total": {
             "type": "column",
             "yAxis": 0
            }
           },
           "showDataLabels": false,
           "sizemode": "diameter",
           "sortX": false,
           "sortY": true,
           "swappedAxes": true,
           "textFormat": "",
           "useAggregationsUi": true,
           "valuesOptions": {},
           "version": 2,
           "xAxis": {
            "labels": {
             "enabled": false
            },
            "type": "category"
           },
           "yAxis": [
            {
             "rangeMin": 0,
             "type": "-"
            },
            {
             "opposite": true,
             "type": "-"
            }
           ]
          }
         }
        ]
       },
       "datasetPreviewNameToCmdIdMap": {},
       "diffDeletes": [],
       "diffInserts": [],
       "displayType": "redashChart",
       "error": null,
       "errorDetails": null,
       "errorSummary": null,
       "errorTraceType": null,
       "finishTime": 0,
       "globalVars": {},
       "guid": "",
       "height": "auto",
       "hideCommandCode": false,
       "hideCommandResult": false,
       "iPythonMetadata": null,
       "inputWidgets": {},
       "isLockedInExamMode": false,
       "latestAssumeRoleInfo": null,
       "latestUser": "a user",
       "latestUserId": null,
       "listResultMetadata": null,
       "metadata": {
        "byteLimit": 2048000,
        "rowLimit": 10000
       },
       "nuid": "211f6f1a-2fba-4fe0-9f16-d510345de297",
       "origId": 0,
       "parentHierarchy": [],
       "pivotAggregation": null,
       "pivotColumns": null,
       "position": 23.0,
       "resultDbfsErrorMessage": null,
       "resultDbfsStatus": "INLINED_IN_TREE",
       "results": null,
       "showCommandTitle": false,
       "startTime": 0,
       "state": "input",
       "streamStates": {},
       "subcommandOptions": {
        "queryPlan": {
         "selects": [
          {
           "column": "material_category",
           "type": "column"
          },
          {
           "column": "faturamento_total",
           "type": "column"
          },
          {
           "column": "material_category",
           "type": "column"
          }
         ]
        }
       },
       "submitTime": 0,
       "subtype": "tableResultSubCmd.visualization",
       "tableResultIndex": 0,
       "tableResultSettingsMap": {},
       "useConsistentColors": false,
       "version": "CommandV1",
       "width": "auto",
       "workflows": null,
       "xColumns": null,
       "yColumns": null
      }
     },
     "output_type": "display_data"
    }
   ],
   "source": [
    "# 1.3 Quais categorias ou produtos possuem maior impacto no faturamento?\n",
    "# --- Ranking de Faturamento por Categoria ---\n",
    "\n",
    "faturamento_por_categoria = df_vendas.groupBy(\"material_category\") \\\n",
    "                                     .agg(sum(\"price\").cast(\"integer\").alias(\"faturamento_total\"),\n",
    "                                         count(\"order_id\").alias(\"unidades_vendidas\")\n",
    "                                     ).orderBy(desc(\"faturamento_total\"))\n",
    "\n",
    "print(\"--- Ranking de Faturamento por Categoria de Produto ---\")\n",
    "display(faturamento_por_categoria)\n",
    "\n",
    "# --- Ranking de Faturamento por Produto ---\n",
    "\n",
    "faturamento_por_produto = df_vendas.groupBy(\"material_name\") \\\n",
    "                                   .agg(sum(\"price\").cast(\"integer\").alias(\"faturamento_total\"),\n",
    "                                       count(\"order_id\").alias(\"unidades_vendidas\")\n",
    "                                   ).orderBy(desc(\"faturamento_total\"))\n",
    "faturamento_por_produto_top20 = faturamento_por_produto.limit(20)\n",
    "print(\"\\n--- Top 20 Produtos por Faturamento (como inteiro) ---\")\n",
    "display(faturamento_por_produto_top20)"
   ]
  },
  {
   "cell_type": "code",
   "execution_count": 0,
   "metadata": {
    "application/vnd.databricks.v1+cell": {
     "cellMetadata": {
      "byteLimit": 2048000,
      "rowLimit": 10000
     },
     "inputWidgets": {},
     "nuid": "73c9220a-7a0e-41c2-8d11-3ae3aeac1cae",
     "showTitle": true,
     "tableResultSettingsMap": {},
     "title": "2.1. Identificar Produtos Críticos em Ruptura"
    }
   },
   "outputs": [],
   "source": [
    "# Análise do Desafio 2: Rupturas de Estoque Objetivo: Identificar quais produtos estão em falta e, mais importante, qual o impacto potencial disso na receita.\n",
    "#  2.1. Identificar Produtos Críticos em Ruptura\n",
    "#  --- 1. Sua consulta original para identificar os produtos em ruptura ---\n",
    "# Primeiro, listamos os produtos que deveriam estar à venda, mas estão com estoque zerado.\n",
    "produtos_ruptura = df_supply.filter(\n",
    "    (col(\"quantity\") == 0) &\n",
    "    (col(\"should_sell\") == True) &\n",
    "    (col(\"discontinued\") == False)\n",
    ").select(\"material_id\", \"material_name\", \"leadtime\")\n",
    "\n",
    "print(\"--- Amostra de Produtos em Ruptura de Estoque ---\")\n",
    "display(produtos_ruptura.limit(10))\n",
    "\n",
    "produtos_ruptura_unicos = produtos_ruptura.distinct()\n",
    "\n",
    "# --- 2. NOVO CÓDIGO: Cálculo do percentual ---\n",
    "\n",
    "# Contar o número total de itens ÚNICOS no catálogo (baseado no df_supply)\n",
    "total_itens_unicos = df_supply.select(\"material_id\").distinct().count()\n",
    "\n",
    "# Contar o número de itens ÚNICOS que estão em ruptura (baseado no df produtos_ruptura)\n",
    "itens_unicos_em_ruptura = produtos_ruptura.select(\"material_id\").distinct().count()\n",
    "\n",
    "# Calcular o percentual e exibir os resultados de forma clara\n",
    "print(\"\\n--- Análise do Percentual de Ruptura de Estoque ---\")\n",
    "print(f\"Total de produtos únicos no catálogo: {total_itens_unicos}\")\n",
    "print(f\"Total de produtos únicos em ruptura: {itens_unicos_em_ruptura}\")\n",
    "\n",
    "percentual_ruptura = (itens_unicos_em_ruptura / total_itens_unicos) * 100\n",
    "print(f\"Percentual de itens do catálogo em ruptura: {percentual_ruptura:.2f}%\")\n"
   ]
  },
  {
   "cell_type": "code",
   "execution_count": 0,
   "metadata": {
    "application/vnd.databricks.v1+cell": {
     "cellMetadata": {
      "byteLimit": 2048000,
      "rowLimit": 10000
     },
     "collapsed": true,
     "inputWidgets": {},
     "nuid": "b7ab454f-d112-4fb6-bde3-ea9674a2a9dd",
     "showTitle": true,
     "tableResultSettingsMap": {},
     "title": "2.2. Priorizar a Reposição: Cruzando Ruptura com Demanda"
    }
   },
   "outputs": [
    {
     "output_type": "display_data",
     "data": {
      "text/plain": [
       "Databricks visualization. Run in Databricks to view."
      ]
     },
     "metadata": {
      "application/vnd.databricks.v1.subcommand+json": {
       "baseErrorDetails": null,
       "bindings": {},
       "collapsed": false,
       "command": "%python\n__backend_agg_display_orig = display\n__backend_agg_dfs = []\ndef __backend_agg_display_new(df):\n    __backend_agg_df_modules = [\"pandas.core.frame\", \"databricks.koalas.frame\", \"pyspark.sql.dataframe\", \"pyspark.pandas.frame\", \"pyspark.sql.connect.dataframe\"]\n    if (type(df).__module__ in __backend_agg_df_modules and type(df).__name__ == 'DataFrame') or isinstance(df, list):\n        __backend_agg_dfs.append(df)\n\ndisplay = __backend_agg_display_new\n\ndef __backend_agg_user_code_fn():\n    import base64\n    exec(base64.standard_b64decode(\"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\").decode())\n\ntry:\n    # run user code\n    __backend_agg_user_code_fn()\n\n    #reset display function\n    display = __backend_agg_display_orig\n\n    if len(__backend_agg_dfs) > 1:\n        # create a temp view\n        if type(__backend_agg_dfs[1]).__module__ == \"databricks.koalas.frame\":\n            # koalas dataframe\n            __backend_agg_dfs[1].to_spark().createOrReplaceTempView(\"DatabricksView6a0c7bd\")\n        elif type(__backend_agg_dfs[1]).__module__ == \"pandas.core.frame\" or isinstance(__backend_agg_dfs[1], list):\n            # pandas dataframe\n            spark.createDataFrame(__backend_agg_dfs[1]).createOrReplaceTempView(\"DatabricksView6a0c7bd\")\n        else:\n            __backend_agg_dfs[1].createOrReplaceTempView(\"DatabricksView6a0c7bd\")\n        #run backend agg\n        display(spark.sql(\"\"\"WITH q AS (select * from DatabricksView6a0c7bd) SELECT `material_name`,`faturamento_total` FROM q\"\"\"))\n    else:\n        displayHTML(\"dataframe no longer exists. If you're using dataframe.display(), use display(dataframe) instead.\")\n\n\nfinally:\n    spark.sql(\"drop view if exists DatabricksView6a0c7bd\")\n    display = __backend_agg_display_orig\n    del __backend_agg_display_new\n    del __backend_agg_display_orig\n    del __backend_agg_dfs\n    del __backend_agg_user_code_fn\n\n",
       "commandTitle": "Visualization 1",
       "commandType": "auto",
       "commandVersion": 0,
       "commentThread": [],
       "commentsVisible": false,
       "contentSha256Hex": null,
       "customPlotOptions": {
        "redashChart": [
         {
          "key": "type",
          "value": "CHART"
         },
         {
          "key": "options",
          "value": {
           "alignYAxesAtZero": true,
           "coefficient": 1,
           "columnConfigurationMap": {
            "x": {
             "column": "material_name",
             "id": "column_415804c098"
            },
            "y": [
             {
              "column": "faturamento_total",
              "id": "column_415804c0100"
             }
            ]
           },
           "dateTimeFormat": "DD/MM/YYYY HH:mm",
           "direction": {
            "type": "counterclockwise"
           },
           "error_y": {
            "type": "data",
            "visible": true
           },
           "globalSeriesType": "pie",
           "isAggregationOn": false,
           "legend": {
            "traceorder": "normal"
           },
           "missingValuesAsZero": true,
           "numberFormat": "0,0.[00000]",
           "percentFormat": "0[.]00%",
           "series": {
            "error_y": {
             "type": "data",
             "visible": true
            },
            "stacking": null
           },
           "seriesOptions": {
            "faturamento_total": {
             "type": "pie",
             "yAxis": 0
            }
           },
           "showDataLabels": true,
           "sizemode": "diameter",
           "sortX": true,
           "sortY": true,
           "swappedAxes": false,
           "textFormat": "",
           "useAggregationsUi": true,
           "valuesOptions": {},
           "version": 2,
           "xAxis": {
            "labels": {
             "enabled": true
            },
            "type": "-"
           },
           "yAxis": [
            {
             "type": "-"
            },
            {
             "opposite": true,
             "type": "-"
            }
           ]
          }
         }
        ]
       },
       "datasetPreviewNameToCmdIdMap": {},
       "diffDeletes": [],
       "diffInserts": [],
       "displayType": "redashChart",
       "error": null,
       "errorDetails": null,
       "errorSummary": null,
       "errorTraceType": null,
       "finishTime": 0,
       "globalVars": {},
       "guid": "",
       "height": "auto",
       "hideCommandCode": false,
       "hideCommandResult": false,
       "iPythonMetadata": null,
       "inputWidgets": {},
       "isLockedInExamMode": false,
       "latestAssumeRoleInfo": null,
       "latestUser": "a user",
       "latestUserId": null,
       "listResultMetadata": null,
       "metadata": {
        "byteLimit": 2048000,
        "rowLimit": 10000
       },
       "nuid": "25e9ca27-585f-49da-9a28-d7ac4e44d4a0",
       "origId": 0,
       "parentHierarchy": [],
       "pivotAggregation": null,
       "pivotColumns": null,
       "position": 25.25,
       "resultDbfsErrorMessage": null,
       "resultDbfsStatus": "INLINED_IN_TREE",
       "results": null,
       "showCommandTitle": false,
       "startTime": 0,
       "state": "input",
       "streamStates": {},
       "subcommandOptions": {
        "queryPlan": {
         "selects": [
          {
           "column": "material_name",
           "type": "column"
          },
          {
           "column": "faturamento_total",
           "type": "column"
          }
         ]
        }
       },
       "submitTime": 0,
       "subtype": "tableResultSubCmd.visualization",
       "tableResultIndex": 1,
       "tableResultSettingsMap": {},
       "useConsistentColors": false,
       "version": "CommandV1",
       "width": "auto",
       "workflows": null,
       "xColumns": null,
       "yColumns": null
      }
     },
     "output_type": "display_data"
    },
    {
     "output_type": "display_data",
     "data": {
      "text/plain": [
       "Databricks visualization. Run in Databricks to view."
      ]
     },
     "metadata": {
      "application/vnd.databricks.v1.subcommand+json": {
       "baseErrorDetails": null,
       "bindings": {},
       "collapsed": false,
       "command": "%python\n__backend_agg_display_orig = display\n__backend_agg_dfs = []\ndef __backend_agg_display_new(df):\n    __backend_agg_df_modules = [\"pandas.core.frame\", \"databricks.koalas.frame\", \"pyspark.sql.dataframe\", \"pyspark.pandas.frame\", \"pyspark.sql.connect.dataframe\"]\n    if (type(df).__module__ in __backend_agg_df_modules and type(df).__name__ == 'DataFrame') or isinstance(df, list):\n        __backend_agg_dfs.append(df)\n\ndisplay = __backend_agg_display_new\n\ndef __backend_agg_user_code_fn():\n    import base64\n    exec(base64.standard_b64decode(\"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\").decode())\n\ntry:\n    # run user code\n    __backend_agg_user_code_fn()\n\n    #reset display function\n    display = __backend_agg_display_orig\n\n    if len(__backend_agg_dfs) > 0:\n        # create a temp view\n        if type(__backend_agg_dfs[0]).__module__ == \"databricks.koalas.frame\":\n            # koalas dataframe\n            __backend_agg_dfs[0].to_spark().createOrReplaceTempView(\"DatabricksView8eacffd\")\n        elif type(__backend_agg_dfs[0]).__module__ == \"pandas.core.frame\" or isinstance(__backend_agg_dfs[0], list):\n            # pandas dataframe\n            spark.createDataFrame(__backend_agg_dfs[0]).createOrReplaceTempView(\"DatabricksView8eacffd\")\n        else:\n            __backend_agg_dfs[0].createOrReplaceTempView(\"DatabricksView8eacffd\")\n        #run backend agg\n        display(spark.sql(\"\"\"WITH q AS (select * from DatabricksView8eacffd) SELECT `material_name`,`vendas_historicas` FROM q\"\"\"))\n    else:\n        displayHTML(\"dataframe no longer exists. If you're using dataframe.display(), use display(dataframe) instead.\")\n\n\nfinally:\n    spark.sql(\"drop view if exists DatabricksView8eacffd\")\n    display = __backend_agg_display_orig\n    del __backend_agg_display_new\n    del __backend_agg_display_orig\n    del __backend_agg_dfs\n    del __backend_agg_user_code_fn\n\n",
       "commandTitle": "Visualization 1",
       "commandType": "auto",
       "commandVersion": 0,
       "commentThread": [],
       "commentsVisible": false,
       "contentSha256Hex": null,
       "customPlotOptions": {
        "redashChart": [
         {
          "key": "type",
          "value": "CHART"
         },
         {
          "key": "options",
          "value": {
           "alignYAxesAtZero": true,
           "coefficient": 1,
           "columnConfigurationMap": {
            "x": {
             "column": "material_name",
             "id": "column_415804c094"
            },
            "y": [
             {
              "column": "vendas_historicas",
              "id": "column_415804c096"
             }
            ]
           },
           "dateTimeFormat": "DD/MM/YYYY HH:mm",
           "direction": {
            "type": "counterclockwise"
           },
           "error_y": {
            "type": "data",
            "visible": true
           },
           "globalSeriesType": "pie",
           "isAggregationOn": false,
           "legend": {
            "traceorder": "normal"
           },
           "missingValuesAsZero": true,
           "numberFormat": "0,0.[00000]",
           "percentFormat": "0[.]00%",
           "series": {
            "error_y": {
             "type": "data",
             "visible": true
            },
            "stacking": null
           },
           "seriesOptions": {
            "vendas_historicas": {
             "type": "pie",
             "yAxis": 0
            }
           },
           "showDataLabels": true,
           "sizemode": "diameter",
           "sortX": true,
           "sortY": true,
           "swappedAxes": false,
           "textFormat": "",
           "useAggregationsUi": true,
           "valuesOptions": {},
           "version": 2,
           "xAxis": {
            "labels": {
             "enabled": true
            },
            "type": "-"
           },
           "yAxis": [
            {
             "type": "-"
            },
            {
             "opposite": true,
             "type": "-"
            }
           ]
          }
         }
        ]
       },
       "datasetPreviewNameToCmdIdMap": {},
       "diffDeletes": [],
       "diffInserts": [],
       "displayType": "redashChart",
       "error": null,
       "errorDetails": null,
       "errorSummary": null,
       "errorTraceType": null,
       "finishTime": 0,
       "globalVars": {},
       "guid": "",
       "height": "auto",
       "hideCommandCode": false,
       "hideCommandResult": false,
       "iPythonMetadata": null,
       "inputWidgets": {},
       "isLockedInExamMode": false,
       "latestAssumeRoleInfo": null,
       "latestUser": "a user",
       "latestUserId": null,
       "listResultMetadata": null,
       "metadata": {
        "byteLimit": 2048000,
        "rowLimit": 10000
       },
       "nuid": "799b4fe9-2fcb-4426-aeec-50434b3bd527",
       "origId": 0,
       "parentHierarchy": [],
       "pivotAggregation": null,
       "pivotColumns": null,
       "position": 25.25,
       "resultDbfsErrorMessage": null,
       "resultDbfsStatus": "INLINED_IN_TREE",
       "results": null,
       "showCommandTitle": false,
       "startTime": 0,
       "state": "input",
       "streamStates": {},
       "subcommandOptions": {
        "queryPlan": {
         "selects": [
          {
           "column": "material_name",
           "type": "column"
          },
          {
           "column": "vendas_historicas",
           "type": "column"
          }
         ]
        }
       },
       "submitTime": 0,
       "subtype": "tableResultSubCmd.visualization",
       "tableResultIndex": 0,
       "tableResultSettingsMap": {},
       "useConsistentColors": false,
       "version": "CommandV1",
       "width": "auto",
       "workflows": null,
       "xColumns": null,
       "yColumns": null
      }
     },
     "output_type": "display_data"
    }
   ],
   "source": [
    "# 2.2. Priorizar a Reposição: Cruzando Ruptura com Demanda\n",
    "# Um produto em ruptura só é um problema se ele vende bem. Vamos cruzar a lista de ruptura com o histórico de vendas para encontrar os casos mais críticos.\n",
    "# O que analisar nos resultados:\n",
    "\n",
    "# Lista de Prioridades: O topo desta tabela (ruptura_critica) são os produtos que você precisa repor com mais urgência. Eles estão em falta e têm uma alta demanda histórica.\n",
    "\n",
    "# leadtime vs. vendas_historicas: Um produto com vendas altíssimas e um leadtime (tempo de reposição) longo é um grande risco para a receita.\n",
    "# Contar as vendas históricas para cada material_id\n",
    "demanda_historica = df_vendas.groupBy(\"material_id\") \\\n",
    "                             .agg(count(\"order_id\").alias(\"vendas_historicas\"))\n",
    "\n",
    "# Juntar a lista de ruptura com a demanda para priorizar\n",
    "ruptura_critica = (produtos_ruptura_unicos.join(demanda_historica, \"material_id\", \"inner\") \n",
    "                                   .orderBy(col(\"vendas_historicas\").desc())                                   \n",
    "                                   )\n",
    "ruptura_critica_top20 = ruptura_critica.limit(20)\n",
    "print(\"--- Produtos Mais Críticos para Reposição (Ruptura vs. Demanda) ---\")\n",
    "display(ruptura_critica_top20)\n",
    "\n",
    "# Juntar a lista de ruptura com o faturamento por produto\n",
    "ruptura_critica_faturamento_top20 = (ruptura_critica.join(faturamento_por_produto, \"material_name\", \"inner\") \n",
    "                                              .orderBy(col(\"faturamento_total\").desc())\n",
    "                                              .limit(20)\n",
    "                                              )\n",
    "\n",
    "print(\"\\n--- Produtos Mais Críticos para Reposição (Ruptura vs. Faturamento) ---\")    \n",
    "display(ruptura_critica_faturamento_top20)\n"
   ]
  },
  {
   "cell_type": "code",
   "execution_count": 0,
   "metadata": {
    "application/vnd.databricks.v1+cell": {
     "cellMetadata": {
      "byteLimit": 2048000,
      "rowLimit": 10000
     },
     "collapsed": true,
     "inputWidgets": {},
     "nuid": "de1f13c5-50ab-4ab5-8af3-957d52e9cc28",
     "showTitle": true,
     "tableResultSettingsMap": {},
     "title": "3.1. Calcular Tempos do Ciclo de Entrega"
    }
   },
   "outputs": [],
   "source": [
    "# Análise do Desafio 3: Problemas Logísticos Objetivo: Medir a eficiência da entrega, identificar atrasos e comparar o desempenho de transportadoras e regiões\n",
    "#  3.1. Calcular Tempos do Ciclo de Entrega\n",
    "# Vamos medir o tempo que um pedido leva para sair do armazém e o tempo que a transportadora leva para entregá-lo.\n",
    "\n",
    "\n",
    "\n",
    "# Calculamos a diferença em dias entre as etapas do pedido\n",
    "df_pedidos_com_prazos = df_pedidos.withColumn(\"tempo_despacho_dias\", datediff(col(\"data_envio\"), col(\"created_at_data\"))) \\\n",
    "                                 .withColumn(\"tempo_transporte_dias\", datediff(col(\"data_entrega\"), col(\"data_envio\")))\n",
    "\n",
    "# Calcular médias gerais\n",
    "medias_logisticas = df_pedidos_com_prazos.agg(\n",
    "    avg(\"tempo_despacho_dias\").alias(\"media_dias_para_despacho\"),\n",
    "    avg(\"tempo_transporte_dias\").alias(\"media_dias_em_transporte\")\n",
    ")\n",
    "\n",
    "print(\"--- Médias de Tempo do Ciclo Logístico ---\")\n",
    "display(medias_logisticas)"
   ]
  },
  {
   "cell_type": "code",
   "execution_count": 0,
   "metadata": {
    "application/vnd.databricks.v1+cell": {
     "cellMetadata": {
      "byteLimit": 2048000,
      "rowLimit": 10000
     },
     "collapsed": true,
     "inputWidgets": {},
     "nuid": "b34c52e6-d297-4981-8aee-218f71757128",
     "showTitle": true,
     "tableResultSettingsMap": {},
     "title": "3.2. Análise de Atrasos e Desempenho por Transportadora"
    }
   },
   "outputs": [
    {
     "output_type": "display_data",
     "data": {
      "text/plain": [
       "Databricks visualization. Run in Databricks to view."
      ]
     },
     "metadata": {
      "application/vnd.databricks.v1.subcommand+json": {
       "baseErrorDetails": null,
       "bindings": {},
       "collapsed": false,
       "command": "%python\n__backend_agg_display_orig = display\n__backend_agg_dfs = []\ndef __backend_agg_display_new(df):\n    __backend_agg_df_modules = [\"pandas.core.frame\", \"databricks.koalas.frame\", \"pyspark.sql.dataframe\", \"pyspark.pandas.frame\", \"pyspark.sql.connect.dataframe\"]\n    if (type(df).__module__ in __backend_agg_df_modules and type(df).__name__ == 'DataFrame') or isinstance(df, list):\n        __backend_agg_dfs.append(df)\n\ndisplay = __backend_agg_display_new\n\ndef __backend_agg_user_code_fn():\n    import base64\n    exec(base64.standard_b64decode(\"IyAzLjIuIEFuw6FsaXNlIGRlIEF0cmFzb3MgZSBEZXNlbXBlbmhvIHBvciBUcmFuc3BvcnRhZG9yYQojIEVzdGFtb3MgY3VtcHJpbmRvIG9zIHByYXpvcz8gUXVhbCB0cmFuc3BvcnRhZG9yYSDDqSBtYWlzIHLDoXBpZGEgZSBxdWFsIHRlbSBtYWlzIGF0cmFzb3M/CiMgTyBxdWUgYW5hbGlzYXIgbm9zIHJlc3VsdGFkb3M6CgojIFJhbmtpbmcgZGUgVHJhbnNwb3J0YWRvcmFzOiBRdWFsIHRyYW5zcG9ydGFkb3JhIHRlbSBvIG1lbm9yIHRlbXBvX21lZGlvX2VudHJlZ2EgZSBvIG1lbm9yIHBlcmNlbnR1YWxfYXRyYXNvcz8gSXNzbyBwb2RlIHNlciBjcnVjaWFsIHBhcmEgcmVuZWdvY2lhciBjb250cmF0b3MuCgojIEFuw6FsaXNlIHBvciBFc3RhZG86IFZvY8OqIHBvZGUgZmFjaWxtZW50ZSBhZGFwdGFyIGEgY29uc3VsdGEgYWNpbWEgcGFyYSBmYXplciB1bSBncm91cEJ5KCJFc3RhZG8iKSBlbSB2ZXogZGUgZ3JvdXBCeSgiVHJhbnNwb3J0YWRvcmEiKSBlIGRlc2NvYnJpciBxdWFpcyBlc3RhZG9zIHTDqm0gb3MgbWFpb3JlcyBwcmF6b3Mgb3UgdGF4YXMgZGUgYXRyYXNvLgojIENyaWFyIHVtYSBmbGFnIHBhcmEgcGVkaWRvcyBhdHJhc2Fkb3MKZGZfcGVkaWRvc19jb21fYXRyYXNvID0gZGZfcGVkaWRvc19jb21fcHJhem9zLndpdGhDb2x1bW4oCiAgICAiYXRyYXNhZG8iLAogICAgd2hlbihjb2woImRhdGFfZW50cmVnYSIpID4gY29sKCJwcmF6b19lbnRyZWdhX3RyYW5zcG9ydGFkb3JhIiksIDEpLm90aGVyd2lzZSgwKQopCgojIEFncnVwYXIgcG9yIHRyYW5zcG9ydGFkb3JhIHBhcmEgYW5hbGlzYXIgbyBkZXNlbXBlbmhvCmRlc2VtcGVuaG9fdHJhbnNwb3J0YWRvcmEgPSBkZl9wZWRpZG9zX2NvbV9hdHJhc28uZ3JvdXBCeSgiVHJhbnNwb3J0YWRvcmEiKSBcCiAgICAuYWdnKAogICAgICAgIGF2ZygidGVtcG9fdHJhbnNwb3J0ZV9kaWFzIikuYWxpYXMoInRlbXBvX21lZGlvX2VudHJlZ2EiKSwKICAgICAgICAoc3VtKCJhdHJhc2FkbyIpIC8gY291bnQoIm9yZGVyX2lkIikgKiAxMDApLmFsaWFzKCJwZXJjZW50dWFsX2F0cmFzb3MiKSwKICAgICAgICBjb3VudCgib3JkZXJfaWQiKS5hbGlhcygidG90YWxfZW50cmVnYXMiKQogICAgKS5vcmRlckJ5KGNvbCgidGVtcG9fbWVkaW9fZW50cmVnYSIpKQoKcHJpbnQoIi0tLSBEZXNlbXBlbmhvIHBvciBUcmFuc3BvcnRhZG9yYSAtLS0iKQpkaXNwbGF5KGRlc2VtcGVuaG9fdHJhbnNwb3J0YWRvcmEp\").decode())\n\ntry:\n    # run user code\n    __backend_agg_user_code_fn()\n\n    #reset display function\n    display = __backend_agg_display_orig\n\n    if len(__backend_agg_dfs) > 0:\n        # create a temp view\n        if type(__backend_agg_dfs[0]).__module__ == \"databricks.koalas.frame\":\n            # koalas dataframe\n            __backend_agg_dfs[0].to_spark().createOrReplaceTempView(\"DatabricksView389fcd3\")\n        elif type(__backend_agg_dfs[0]).__module__ == \"pandas.core.frame\" or isinstance(__backend_agg_dfs[0], list):\n            # pandas dataframe\n            spark.createDataFrame(__backend_agg_dfs[0]).createOrReplaceTempView(\"DatabricksView389fcd3\")\n        else:\n            __backend_agg_dfs[0].createOrReplaceTempView(\"DatabricksView389fcd3\")\n        #run backend agg\n        display(spark.sql(\"\"\"WITH q AS (select * from DatabricksView389fcd3) SELECT `Transportadora`,`percentual_atrasos`,`Transportadora` FROM q\"\"\"))\n    else:\n        displayHTML(\"dataframe no longer exists. If you're using dataframe.display(), use display(dataframe) instead.\")\n\n\nfinally:\n    spark.sql(\"drop view if exists DatabricksView389fcd3\")\n    display = __backend_agg_display_orig\n    del __backend_agg_display_new\n    del __backend_agg_display_orig\n    del __backend_agg_dfs\n    del __backend_agg_user_code_fn\n\n",
       "commandTitle": "Visualization 1",
       "commandType": "auto",
       "commandVersion": 0,
       "commentThread": [],
       "commentsVisible": false,
       "contentSha256Hex": null,
       "customPlotOptions": {
        "redashChart": [
         {
          "key": "type",
          "value": "CHART"
         },
         {
          "key": "options",
          "value": {
           "alignYAxesAtZero": true,
           "coefficient": 1,
           "columnConfigurationMap": {
            "series": {
             "column": "Transportadora",
             "id": "column_415804c0106"
            },
            "x": {
             "column": "Transportadora",
             "id": "column_415804c0102"
            },
            "y": [
             {
              "column": "percentual_atrasos",
              "id": "column_415804c0104"
             }
            ]
           },
           "dateTimeFormat": "DD/MM/YYYY HH:mm",
           "direction": {
            "type": "counterclockwise"
           },
           "error_y": {
            "type": "data",
            "visible": true
           },
           "globalSeriesType": "column",
           "isAggregationOn": false,
           "legend": {
            "traceorder": "normal"
           },
           "missingValuesAsZero": true,
           "numberFormat": "0,0.[00000]",
           "percentFormat": "0[.]00%",
           "series": {
            "error_y": {
             "type": "data",
             "visible": true
            },
            "stacking": null
           },
           "seriesOptions": {
            "percentual_atrasos": {
             "type": "column",
             "yAxis": 0
            }
           },
           "showDataLabels": false,
           "sizemode": "diameter",
           "sortX": true,
           "sortY": true,
           "swappedAxes": true,
           "textFormat": "",
           "useAggregationsUi": true,
           "valuesOptions": {},
           "version": 2,
           "xAxis": {
            "labels": {
             "enabled": true
            },
            "type": "-"
           },
           "yAxis": [
            {
             "type": "-"
            },
            {
             "opposite": true,
             "type": "-"
            }
           ]
          }
         }
        ]
       },
       "datasetPreviewNameToCmdIdMap": {},
       "diffDeletes": [],
       "diffInserts": [],
       "displayType": "redashChart",
       "error": null,
       "errorDetails": null,
       "errorSummary": null,
       "errorTraceType": null,
       "finishTime": 0,
       "globalVars": {},
       "guid": "",
       "height": "auto",
       "hideCommandCode": false,
       "hideCommandResult": false,
       "iPythonMetadata": null,
       "inputWidgets": {},
       "isLockedInExamMode": false,
       "latestAssumeRoleInfo": null,
       "latestUser": "a user",
       "latestUserId": null,
       "listResultMetadata": null,
       "metadata": {
        "byteLimit": 2048000,
        "rowLimit": 10000
       },
       "nuid": "70e1b917-0afd-4b4f-a5c5-7ea1aca90a3e",
       "origId": 0,
       "parentHierarchy": [],
       "pivotAggregation": null,
       "pivotColumns": null,
       "position": 32.0,
       "resultDbfsErrorMessage": null,
       "resultDbfsStatus": "INLINED_IN_TREE",
       "results": null,
       "showCommandTitle": false,
       "startTime": 0,
       "state": "input",
       "streamStates": {},
       "subcommandOptions": {
        "queryPlan": {
         "selects": [
          {
           "column": "Transportadora",
           "type": "column"
          },
          {
           "column": "percentual_atrasos",
           "type": "column"
          },
          {
           "column": "Transportadora",
           "type": "column"
          }
         ]
        }
       },
       "submitTime": 0,
       "subtype": "tableResultSubCmd.visualization",
       "tableResultIndex": 0,
       "tableResultSettingsMap": {},
       "useConsistentColors": false,
       "version": "CommandV1",
       "width": "auto",
       "workflows": null,
       "xColumns": null,
       "yColumns": null
      }
     },
     "output_type": "display_data"
    }
   ],
   "source": [
    "# 3.2. Análise de Atrasos e Desempenho por Transportadora\n",
    "# Estamos cumprindo os prazos? Qual transportadora é mais rápida e qual tem mais atrasos?\n",
    "# O que analisar nos resultados:\n",
    "\n",
    "# Ranking de Transportadoras: Qual transportadora tem o menor tempo_medio_entrega e o menor percentual_atrasos? Isso pode ser crucial para renegociar contratos.\n",
    "\n",
    "# Análise por Estado: Você pode facilmente adaptar a consulta acima para fazer um groupBy(\"Estado\") em vez de groupBy(\"Transportadora\") e descobrir quais estados têm os maiores prazos ou taxas de atraso.\n",
    "# Criar uma flag para pedidos atrasados\n",
    "df_pedidos_com_atraso = df_pedidos_com_prazos.withColumn(\n",
    "    \"atrasado\",\n",
    "    when(col(\"data_entrega\") > col(\"prazo_entrega_transportadora\"), 1).otherwise(0)\n",
    ")\n",
    "\n",
    "# Agrupar por transportadora para analisar o desempenho\n",
    "desempenho_transportadora = df_pedidos_com_atraso.groupBy(\"Transportadora\") \\\n",
    "    .agg(\n",
    "        avg(\"tempo_transporte_dias\").alias(\"tempo_medio_entrega\"),\n",
    "        (sum(\"atrasado\") / count(\"order_id\") * 100).alias(\"percentual_atrasos\"),\n",
    "        count(\"order_id\").alias(\"total_entregas\")\n",
    "    ).orderBy(col(\"tempo_medio_entrega\"))\n",
    "\n",
    "print(\"--- Desempenho por Transportadora ---\")\n",
    "display(desempenho_transportadora)"
   ]
  },
  {
   "cell_type": "code",
   "execution_count": 0,
   "metadata": {
    "application/vnd.databricks.v1+cell": {
     "cellMetadata": {
      "byteLimit": 2048000,
      "rowLimit": 10000
     },
     "inputWidgets": {},
     "nuid": "27f88edd-cc39-4e9b-8153-4026494ad296",
     "showTitle": true,
     "tableResultSettingsMap": {},
     "title": "send"
    }
   },
   "outputs": [],
   "source": [
    "\n",
    "# Análise 1.1: Oscilações nas Vendas e Impacto de Promoções\n",
    "vendas_diarias_resultado = spark_df_to_json_serializable(vendas_diarias, limit=31)\n",
    "\n",
    "# Análise 1.2: Impacto Frete Grátis\n",
    "analise_frete_resultado = spark_df_to_json_serializable(analise_frete, limit=10)\n",
    "\n",
    "# Análise 1.2: Impacto Frete Grátis dia\n",
    "analise_frete_dia_gratis_resultado = spark_df_to_json_serializable(analise_frete_dia_gratis, limit=31)\n",
    "analise_frete_dia_pago_resultado = spark_df_to_json_serializable(analise_frete_dia_pago, limit=31)\n",
    "\n",
    "# Análise 1.3: Quais categorias ou produtos possuem maior impacto no faturamento?\n",
    "faturamento_por_categoria_resultado = spark_df_to_json_serializable(faturamento_por_categoria, limit=50)\n",
    "faturamento_por_produto_resultado = spark_df_to_json_serializable(faturamento_por_produto_top20, limit=50)\n",
    "\n",
    "# Análise 2.1: Identificar Produtos Críticos em Ruptura\n",
    "total_itens_unicos_resultado = total_itens_unicos\n",
    "itens_unicos_em_ruptura_resultado = itens_unicos_em_ruptura\n",
    "percentual_ruptura_resultado = percentual_ruptura\n",
    "\n",
    "# Análise 2.2: Priorizar a Reposição: Cruzando Ruptura com Demanda\n",
    "ruptura_critica_resultado = spark_df_to_json_serializable(ruptura_critica_top20, limit=20)\n",
    "ruptura_critica_faturamento_resultado = spark_df_to_json_serializable(ruptura_critica_faturamento_top20, limit=20)\n",
    "\n",
    "# Análise 3.1: Calcular Tempos do Ciclo de Entrega\n",
    "medias_logisticas_resultado = spark_df_to_json_serializable(medias_logisticas, limit=10)\n",
    "\n",
    "# Analise 3.2: Análise de Atrasos e Desempenho por Transportadora\n",
    "desempenho_transportadoras_resultado = spark_df_to_json_serializable(desempenho_transportadora, limit=10)\n",
    "\n",
    "# Define o fuso horário de Brasília (UTC-3)\n",
    "fuso_horario_brasil = pytz.timezone('America/Sao_Paulo') \n",
    "# Obtém a data e hora atuais nesse fuso horário\n",
    "agora_em_brasilia = datetime.now(fuso_horario_brasil)\n",
    "# Formata a data e hora em uma string no formato desejado\n",
    "timestamp_formatado = agora_em_brasilia.strftime('%d/%m/%Y %H:%M')\n",
    "\n",
    "# --- 2. Crie o \"pacote\" de dados (dicionário mestre) ---\n",
    "# Cada chave do dicionário representa um relatório diferente.\n",
    "master_payload = {\n",
    "    \"relatorio_vendas_diarias\": vendas_diarias_resultado,\n",
    "    \"relatorio_analise_fretes\": analise_frete_resultado,\n",
    "    \"relatorio_analise_fretes_dia_gratis\": analise_frete_dia_gratis_resultado,\n",
    "    \"relatorio_analise_fretes_dia_pago\": analise_frete_dia_pago_resultado,\n",
    "    \"faturamento_por_categoria_resultado\": faturamento_por_categoria_resultado,\n",
    "    \"faturamento_por_produto_resultado\": faturamento_por_produto_resultado,\n",
    "    \"total_itens_unicos_resultado\": total_itens_unicos_resultado,\n",
    "    \"itens_unicos_em_ruptura_resultado\": itens_unicos_em_ruptura_resultado,\n",
    "    \"percentual_ruptura_resultado\": percentual_ruptura_resultado,\n",
    "    \"ruptura_critica_resultado\": ruptura_critica_resultado,\n",
    "    \"ruptura_critica_faturamento_resultado\": ruptura_critica_faturamento_resultado,\n",
    "    \"medias_logisticas_resultado\": medias_logisticas_resultado,\n",
    "    \"desempenho_transportadoras_resultado\": desempenho_transportadoras_resultado,\n",
    "    \"generation_timestamp\": timestamp_formatado\n",
    "}\n",
    "\n",
    "# --- 3. Envie o pacote completo para o n8n ---\n",
    "#n8n_webhook_url = \"https://emanoeljavier.app.n8n.cloud/webhook/2c0caced-9c0d-40b0-838f-04daab4f62ca\"\n",
    "n8n_webhook_url =\"https://emanoeljavier.app.n8n.cloud/webhook-test/2c0caced-9c0d-40b0-838f-04daab4f62ca\" #test\n",
    "headers = {'Content-Type': 'application/json'}\n",
    "\n",
    "try:\n",
    "    print(\"\\nEnviando pacote de dados completo para o n8n...\")\n",
    "    response = requests.post(n8n_webhook_url, data=json.dumps(master_payload), headers=headers)\n",
    "    response.raise_for_status()\n",
    "    print(\"✅ Pacote de dados enviado com sucesso para o n8n!\")\n",
    "    print(f\"Resposta do n8n: {response.json()}\")\n",
    "\n",
    "except Exception as e:\n",
    "    print(f\"❌ Falha ao enviar dados para o n8n: {e}\")"
   ]
  }
 ],
 "metadata": {
  "application/vnd.databricks.v1+notebook": {
   "computePreferences": {
    "hardware": {
     "accelerator": null,
     "gpuPoolId": null,
     "memory": null
    }
   },
   "dashboards": [
    {
     "elements": [
      {
       "dashboardResultIndex": null,
       "elementNUID": "195f0c64-c713-44c4-8a8a-fe8de2aef928",
       "elementType": "command",
       "guid": "30f05c5d-67fa-4fee-9ae9-f745470d64ec",
       "options": null,
       "position": {
        "height": 9,
        "width": 24,
        "x": 0,
        "y": 0,
        "z": null
       },
       "resultIndex": null
      },
      {
       "dashboardResultIndex": null,
       "elementNUID": "70e1b917-0afd-4b4f-a5c5-7ea1aca90a3e",
       "elementType": "command",
       "guid": "38be4f63-f500-4f95-86be-2d69486b5f2b",
       "options": null,
       "position": {
        "height": 9,
        "width": 24,
        "x": 0,
        "y": 75,
        "z": null
       },
       "resultIndex": null
      },
      {
       "dashboardResultIndex": null,
       "elementNUID": "799b4fe9-2fcb-4426-aeec-50434b3bd527",
       "elementType": "command",
       "guid": "49e97e98-8747-4f2e-8c0e-67ccac149913",
       "options": {
        "autoScaleImg": false,
        "scale": 0,
        "showTitle": false,
        "titleAlign": "center"
       },
       "position": {
        "height": 12,
        "width": 24,
        "x": 0,
        "y": 47,
        "z": null
       },
       "resultIndex": null
      },
      {
       "dashboardResultIndex": 0,
       "elementNUID": "de1f13c5-50ab-4ab5-8af3-957d52e9cc28",
       "elementType": "command",
       "guid": "52757f3a-d1cb-418c-a88a-efe83f356a0b",
       "options": null,
       "position": {
        "height": 4,
        "width": 24,
        "x": 0,
        "y": 71,
        "z": null
       },
       "resultIndex": null
      },
      {
       "dashboardResultIndex": null,
       "elementNUID": "211f6f1a-2fba-4fe0-9f16-d510345de297",
       "elementType": "command",
       "guid": "63410631-7e71-4fd4-a2a0-036da8eb20da",
       "options": null,
       "position": {
        "height": 10,
        "width": 24,
        "x": 0,
        "y": 15,
        "z": null
       },
       "resultIndex": null
      },
      {
       "dashboardResultIndex": null,
       "elementNUID": "82c6d815-8655-423f-af6d-7dc30fb77c72",
       "elementType": "command",
       "guid": "75d189af-3b9f-44a1-ab28-a4125779efdc",
       "options": null,
       "position": {
        "height": 10,
        "width": 24,
        "x": 0,
        "y": 25,
        "z": null
       },
       "resultIndex": null
      },
      {
       "dashboardResultIndex": 0,
       "elementNUID": "73c9220a-7a0e-41c2-8d11-3ae3aeac1cae",
       "elementType": "command",
       "guid": "b055d0c5-9779-469e-bcfb-e564fa8eedb9",
       "options": null,
       "position": {
        "height": 12,
        "width": 24,
        "x": 0,
        "y": 35,
        "z": null
       },
       "resultIndex": null
      },
      {
       "dashboardResultIndex": null,
       "elementNUID": "25e9ca27-585f-49da-9a28-d7ac4e44d4a0",
       "elementType": "command",
       "guid": "c5727ff5-2de1-44be-8939-e3a153e3e3a4",
       "options": null,
       "position": {
        "height": 12,
        "width": 24,
        "x": 0,
        "y": 59,
        "z": null
       },
       "resultIndex": null
      }
     ],
     "globalVars": {},
     "guid": "",
     "layoutOption": {
      "grid": true,
      "stack": false
     },
     "nuid": "cb8a0d13-eed2-464f-a322-7597204db0e9",
     "origId": 7605939126628690,
     "title": "relatorio ",
     "version": "DashboardViewV1",
     "width": 800
    }
   ],
   "environmentMetadata": {
    "base_environment": "",
    "environment_version": "4"
   },
   "inputWidgetPreferences": null,
   "language": "python",
   "notebookMetadata": {
    "pythonIndentUnit": 4
   },
   "notebookName": "analise",
   "widgets": {}
  },
  "language_info": {
   "name": "python"
  }
 },
 "nbformat": 4,
 "nbformat_minor": 0
}
